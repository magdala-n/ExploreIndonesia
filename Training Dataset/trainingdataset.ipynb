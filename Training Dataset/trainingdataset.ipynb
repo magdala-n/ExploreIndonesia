{
 "cells": [
  {
   "cell_type": "markdown",
   "metadata": {
    "id": "Bu5-PT1dVKhQ"
   },
   "source": [
    "# Import Libraries"
   ]
  },
  {
   "cell_type": "code",
   "execution_count": 1,
   "metadata": {
    "id": "5RXBgU_Dc9N1"
   },
   "outputs": [],
   "source": [
    "# Import necessary libraries for data processing, model training, and evaluation.\n",
    "import logging\n",
    "import json\n",
    "import pandas as pd\n",
    "import numpy as np\n",
    "import torch\n",
    "import torch.nn as nn\n",
    "import matplotlib.pyplot as plt\n",
    "import seaborn as sns\n",
    "import networkx as nx\n",
    "import plotly.graph_objects as go\n",
    "import plotly.express as px\n",
    "import joblib\n",
    "from sklearn.model_selection import train_test_split, GridSearchCV\n",
    "from sklearn.feature_extraction.text import TfidfVectorizer\n",
    "from sklearn.linear_model import LogisticRegression\n",
    "from sklearn.metrics import classification_report, confusion_matrix, roc_curve, auc\n",
    "from sklearn.preprocessing import LabelEncoder\n",
    "from wordcloud import WordCloud\n",
    "from tensorflow.keras.preprocessing.text import Tokenizer\n",
    "from keras.preprocessing.sequence import pad_sequences\n",
    "from torch.utils.data import Dataset, DataLoader, TensorDataset, random_split  "
   ]
  },
  {
   "cell_type": "markdown",
   "metadata": {
    "id": "p17u0MotdFMa"
   },
   "source": [
    "# Logging setup"
   ]
  },
  {
   "cell_type": "code",
   "execution_count": 2,
   "metadata": {
    "id": "BEFqoonfap_0"
   },
   "outputs": [],
   "source": [
    "# Logging setup to capture model performance and debugging messages\n",
    "logging.basicConfig(level=logging.INFO, format=\"%(asctime)s - %(levelname)s - %(message)s\")\n",
    "logger = logging.getLogger()"
   ]
  },
  {
   "cell_type": "markdown",
   "metadata": {
    "id": "0l66YdmHaubu"
   },
   "source": [
    "# Load and Preprocess Dataset"
   ]
  },
  {
   "cell_type": "code",
   "execution_count": 3,
   "metadata": {
    "id": "4-dgIlNiayGE"
   },
   "outputs": [
    {
     "name": "stderr",
     "output_type": "stream",
     "text": [
      "2024-11-30 13:27:38,171 - INFO - Loading dataset...\n"
     ]
    }
   ],
   "source": [
    "# Loading and validating the dataset. Ensure the dataset is in the expected format.logger.info(\"Loading dataset...\")\n",
    "logger.info(\"Loading dataset...\")"
   ]
  },
  {
   "cell_type": "code",
   "execution_count": 4,
   "metadata": {
    "id": "HW3xHuoNbMOd"
   },
   "outputs": [
    {
     "name": "stderr",
     "output_type": "stream",
     "text": [
      "2024-11-30 13:27:38,177 - INFO - Dataset successfully loaded.\n"
     ]
    }
   ],
   "source": [
    "try:\n",
    "    with open(\"datasetFix.json\", \"r\", encoding=\"utf-8\") as file:\n",
    "        data = json.load(file)\n",
    "    logger.info(\"Dataset successfully loaded.\")\n",
    "except FileNotFoundError:\n",
    "    logger.error(\"Dataset file not found. Please check the file path.\")\n",
    "    exit()\n",
    "except json.JSONDecodeError:\n",
    "    logger.error(\"Dataset file is not a valid JSON. Please check the file format.\")\n",
    "    exit()\n"
   ]
  },
  {
   "cell_type": "code",
   "execution_count": 5,
   "metadata": {
    "id": "Hrl4XcJFdeJm"
   },
   "outputs": [],
   "source": [
    "# Convert JSON to DataFrame\n",
    "with open(\"datasetFix.json\", \"r\", encoding=\"utf-8\") as file:\n",
    "    data = json.load(file)\n",
    "\n",
    "df = pd.DataFrame(data)"
   ]
  },
  {
   "cell_type": "code",
   "execution_count": 6,
   "metadata": {
    "colab": {
     "base_uri": "https://localhost:8080/"
    },
    "id": "WM11bs5cjq8T",
    "outputId": "69aeb246-4dcf-41d1-cdf2-bad6c66bc392"
   },
   "outputs": [
    {
     "name": "stdout",
     "output_type": "stream",
     "text": [
      "                 title                                        description  \\\n",
      "0          Tari Landek  Tarian tradisional Karo yang dilakukan dengan ...   \n",
      "1      Tari Piso Surit  Tarian yang menggambarkan suara burung Piso Su...   \n",
      "2  Tari Guro-Guro Aron  Tarian yang biasanya ditampilkan pada upacara ...   \n",
      "3            Ulos Karo  Kain tenun khas Karo yang memiliki motif unik ...   \n",
      "4        Anyaman Rotan  Kerajinan tangan dari rotan yang dibuat menjad...   \n",
      "\n",
      "             category languageType mediaURL  \n",
      "0    Tarian Nusantara        Medan     None  \n",
      "1    Tarian Nusantara        Medan     None  \n",
      "2    Tarian Nusantara        Medan     None  \n",
      "3  Seni dan Kerajinan        Medan     None  \n",
      "4  Seni dan Kerajinan        Medan     None  \n"
     ]
    }
   ],
   "source": [
    "print(df.head())"
   ]
  },
  {
   "cell_type": "code",
   "execution_count": 7,
   "metadata": {
    "id": "cAMPsQ7DdhXW"
   },
   "outputs": [
    {
     "name": "stderr",
     "output_type": "stream",
     "text": [
      "2024-11-30 13:27:38,226 - INFO - All required columns are present in the dataset.\n"
     ]
    }
   ],
   "source": [
    "# Validate dataset (check for missing columns)\n",
    "required_columns = [\"description\", \"category\"]\n",
    "missing_columns = [col for col in required_columns if col not in df.columns]\n",
    "if missing_columns:\n",
    "    logger.error(f\"Dataset is missing required columns: {missing_columns}\")\n",
    "    exit()\n",
    "logger.info(\"All required columns are present in the dataset.\")\n"
   ]
  },
  {
   "cell_type": "code",
   "execution_count": 8,
   "metadata": {
    "id": "29S9zITOdogO"
   },
   "outputs": [
    {
     "name": "stderr",
     "output_type": "stream",
     "text": [
      "2024-11-30 13:27:38,244 - INFO - Checking and dropping missing values...\n",
      "2024-11-30 13:27:38,244 - INFO - Dataset size after cleaning: 1095 rows.\n"
     ]
    }
   ],
   "source": [
    "# Check for missing values\n",
    "logger.info(\"Checking and dropping missing values...\")\n",
    "df = df.dropna(subset=required_columns)\n",
    "logger.info(f\"Dataset size after cleaning: {len(df)} rows.\")"
   ]
  },
  {
   "cell_type": "markdown",
   "metadata": {
    "id": "WQ3kTMFfdrxv"
   },
   "source": [
    "# Tokenizing and Label Encoding"
   ]
  },
  {
   "cell_type": "code",
   "execution_count": 9,
   "metadata": {
    "id": "UB0v-1ONdtCl"
   },
   "outputs": [
    {
     "name": "stderr",
     "output_type": "stream",
     "text": [
      "2024-11-30 13:27:38,254 - INFO - Tokenizing text...\n"
     ]
    }
   ],
   "source": [
    "# Tokenizing the text and encoding labels\n",
    "logger.info(\"Tokenizing text...\")\n",
    "tokenizer = Tokenizer(num_words=5000)\n",
    "tokenizer.fit_on_texts(df[\"description\"])\n",
    "X_seq = pad_sequences(tokenizer.texts_to_sequences(df[\"description\"]), maxlen=100)\n",
    "\n",
    "label_encoder = LabelEncoder()\n",
    "y = label_encoder.fit_transform(df[\"category\"])"
   ]
  },
  {
   "cell_type": "code",
   "execution_count": 10,
   "metadata": {
    "id": "CnVY-zUtd1ZV"
   },
   "outputs": [
    {
     "name": "stderr",
     "output_type": "stream",
     "text": [
      "2024-11-30 13:27:38,289 - INFO - Splitting dataset into train, validation, and test sets...\n"
     ]
    }
   ],
   "source": [
    "# Split dataset into train, validation, and test sets\n",
    "logger.info(\"Splitting dataset into train, validation, and test sets...\")\n",
    "X_seq = torch.tensor(X_seq, dtype=torch.long)\n",
    "y = torch.tensor(y, dtype=torch.long)\n",
    "\n",
    "dataset = torch.utils.data.TensorDataset(X_seq, y)\n",
    "train_size = int(0.7 * len(dataset))\n",
    "val_size = int(0.15 * len(dataset))\n",
    "test_size = len(dataset) - train_size - val_size\n",
    "\n",
    "train_dataset, val_dataset, test_dataset = random_split(dataset, [train_size, val_size, test_size])\n",
    "\n",
    "train_loader = DataLoader(train_dataset, batch_size=32, shuffle=True)\n",
    "val_loader = DataLoader(val_dataset, batch_size=32, shuffle=False)\n",
    "test_loader = DataLoader(test_dataset, batch_size=32, shuffle=False)"
   ]
  },
  {
   "cell_type": "markdown",
   "metadata": {
    "id": "433BfylvuRGI"
   },
   "source": [
    "# LSTM Model Definition"
   ]
  },
  {
   "cell_type": "code",
   "execution_count": 11,
   "metadata": {
    "id": "LGJOs0ZMuyrC"
   },
   "outputs": [
    {
     "name": "stderr",
     "output_type": "stream",
     "text": [
      "2024-11-30 13:27:41,339 - INFO - Epoch 1 - Training Loss: 28.2742, Accuracy: 0.7115\n",
      "2024-11-30 13:27:41,373 - INFO - Validation Loss: 0.7505, Validation Accuracy: 0.7195\n",
      "2024-11-30 13:27:42,029 - INFO - Epoch 2 - Training Loss: 14.0571, Accuracy: 0.8081\n",
      "2024-11-30 13:27:42,076 - INFO - Validation Loss: 0.6853, Validation Accuracy: 0.7866\n",
      "2024-11-30 13:27:42,656 - INFO - Epoch 3 - Training Loss: 12.9559, Accuracy: 0.8446\n",
      "2024-11-30 13:27:42,687 - INFO - Validation Loss: 0.6592, Validation Accuracy: 0.7988\n",
      "2024-11-30 13:27:43,282 - INFO - Epoch 4 - Training Loss: 11.8737, Accuracy: 0.8629\n",
      "2024-11-30 13:27:43,322 - INFO - Validation Loss: 0.6275, Validation Accuracy: 0.8171\n",
      "2024-11-30 13:27:43,924 - INFO - Epoch 5 - Training Loss: 10.6089, Accuracy: 0.8734\n",
      "2024-11-30 13:27:43,955 - INFO - Validation Loss: 0.5953, Validation Accuracy: 0.8110\n",
      "2024-11-30 13:27:44,551 - INFO - Epoch 6 - Training Loss: 9.3672, Accuracy: 0.8930\n",
      "2024-11-30 13:27:44,583 - INFO - Validation Loss: 0.5676, Validation Accuracy: 0.8110\n",
      "2024-11-30 13:27:45,176 - INFO - Epoch 7 - Training Loss: 7.8921, Accuracy: 0.9164\n",
      "2024-11-30 13:27:45,203 - INFO - Validation Loss: 0.5388, Validation Accuracy: 0.8232\n",
      "2024-11-30 13:27:45,780 - INFO - Epoch 8 - Training Loss: 6.0296, Accuracy: 0.9426\n",
      "2024-11-30 13:27:45,827 - INFO - Validation Loss: 0.5750, Validation Accuracy: 0.8110\n",
      "2024-11-30 13:27:46,405 - INFO - Epoch 9 - Training Loss: 4.8988, Accuracy: 0.9582\n",
      "2024-11-30 13:27:46,452 - INFO - Validation Loss: 0.6262, Validation Accuracy: 0.7866\n",
      "2024-11-30 13:27:47,047 - INFO - Epoch 10 - Training Loss: 4.5388, Accuracy: 0.9608\n",
      "2024-11-30 13:27:47,094 - INFO - Validation Loss: 0.5188, Validation Accuracy: 0.8415\n"
     ]
    }
   ],
   "source": [
    "# LSTM model definition\n",
    "class LSTMClassifier(nn.Module):\n",
    "    def __init__(self, vocab_size, embedding_dim, hidden_dim, output_dim, dropout):\n",
    "        super(LSTMClassifier, self).__init__()\n",
    "        self.embedding = nn.Embedding(vocab_size, embedding_dim)\n",
    "        self.lstm = nn.LSTM(embedding_dim, hidden_dim, batch_first=True)\n",
    "        self.fc = nn.Linear(hidden_dim, output_dim)\n",
    "        self.dropout = nn.Dropout(dropout)\n",
    "\n",
    "    def forward(self, x):\n",
    "        x = self.embedding(x)\n",
    "        _, (hidden, _) = self.lstm(x)\n",
    "        x = self.dropout(hidden[-1])\n",
    "        return self.fc(x)\n",
    "\n",
    "# EarlyStopping class\n",
    "class EarlyStopping:\n",
    "    def __init__(self, patience=3, verbose=False):\n",
    "        self.patience = patience\n",
    "        self.verbose = verbose\n",
    "        self.best_loss = None\n",
    "        self.counter = 0\n",
    "        self.early_stop = False\n",
    "\n",
    "    def __call__(self, val_loss, model):\n",
    "        if self.best_loss is None:\n",
    "            self.best_loss = val_loss\n",
    "        elif val_loss < self.best_loss:\n",
    "            self.best_loss = val_loss\n",
    "            self.counter = 0\n",
    "        else:\n",
    "            self.counter += 1\n",
    "            if self.counter >= self.patience:\n",
    "                self.early_stop = True\n",
    "                if self.verbose:\n",
    "                    print(f\"Early stopping triggered at validation loss: {val_loss:.4f}\")\n",
    "        return self.early_stop\n",
    "\n",
    "# Hyperparameter tuning and early stopping\n",
    "device = torch.device(\"cuda\" if torch.cuda.is_available() else \"cpu\")\n",
    "vocab_size = 5000\n",
    "output_dim = len(label_encoder.classes_)\n",
    "embedding_dim = 100\n",
    "hidden_dim = 128\n",
    "dropout = 0.5\n",
    "\n",
    "model = LSTMClassifier(vocab_size, embedding_dim, hidden_dim, output_dim, dropout).to(device)\n",
    "optimizer = torch.optim.Adam(model.parameters(), lr=0.001)\n",
    "criterion = nn.CrossEntropyLoss()\n",
    "early_stopping = EarlyStopping(patience=2, verbose=True)\n",
    "\n",
    "for epoch in range(10):  # Limit to 10 epochs\n",
    "    model.train()  # Set model to training mode\n",
    "    epoch_loss = 0\n",
    "    correct_predictions = 0\n",
    "    total_samples = 0\n",
    "\n",
    "    for X_batch, y_batch in train_loader:\n",
    "        X_batch, y_batch = X_batch.to(device), y_batch.to(device)\n",
    "\n",
    "        optimizer.zero_grad()\n",
    "\n",
    "        outputs = model(X_batch)\n",
    "        loss = criterion(outputs, y_batch)\n",
    "        loss.backward()\n",
    "        optimizer.step()\n",
    "\n",
    "        epoch_loss += loss.item()\n",
    "        _, predicted = torch.max(outputs, 1)\n",
    "        correct_predictions += (predicted == y_batch).sum().item()\n",
    "        total_samples += y_batch.size(0)\n",
    "\n",
    "    epoch_accuracy = correct_predictions / total_samples\n",
    "    val_loss = epoch_loss / len(train_loader)\n",
    "\n",
    "    # Log training stats\n",
    "    logger.info(f\"Epoch {epoch+1} - Training Loss: {epoch_loss:.4f}, Accuracy: {epoch_accuracy:.4f}\")\n",
    "\n",
    "    # Early stopping check\n",
    "    if early_stopping(val_loss, model):\n",
    "        logger.info(f\"Early stopping triggered after epoch {epoch+1}.\")\n",
    "        break\n",
    "\n",
    "    # Validation phase\n",
    "    model.eval()  # Set model to evaluation mode\n",
    "    val_loss = 0\n",
    "    correct_predictions = 0\n",
    "    total_samples = 0\n",
    "\n",
    "    with torch.no_grad():\n",
    "        for X_val, y_val in val_loader:\n",
    "            X_val, y_val = X_val.to(device), y_val.to(device)\n",
    "            outputs = model(X_val)\n",
    "            loss = criterion(outputs, y_val)\n",
    "\n",
    "            val_loss += loss.item()\n",
    "            _, predicted = torch.max(outputs, 1)\n",
    "            correct_predictions += (predicted == y_val).sum().item()\n",
    "            total_samples += y_val.size(0)\n",
    "\n",
    "        val_accuracy = correct_predictions / total_samples\n",
    "        logger.info(f\"Validation Loss: {val_loss / len(val_loader):.4f}, Validation Accuracy: {val_accuracy:.4f}\")\n"
   ]
  },
  {
   "cell_type": "markdown",
   "metadata": {
    "id": "1b1iUWHud3v7"
   },
   "source": [
    "# Visualize Data (Bar chart, Word Cloud, Treemap, Network Graph)\n"
   ]
  },
  {
   "cell_type": "markdown",
   "metadata": {
    "id": "jSvnIoxli2u3"
   },
   "source": [
    "## Bar Chart"
   ]
  },
  {
   "cell_type": "code",
   "execution_count": 12,
   "metadata": {
    "colab": {
     "base_uri": "https://localhost:8080/",
     "height": 690
    },
    "id": "8jjRa-Csd8Gm",
    "outputId": "0072ae04-8186-4c13-e364-2b312168b572"
   },
   "outputs": [
    {
     "data": {
      "image/png": "[encoded data removed]",
      "text/plain": [
       "<Figure size 1000x600 with 1 Axes>"
      ]
     },
     "metadata": {},
     "output_type": "display_data"
    }
   ],
   "source": [
    "# Visualize category distribution using a bar chart\n",
    "category_counts = df['category'].value_counts()\n",
    "plt.figure(figsize=(10,6))\n",
    "sns.barplot(x=category_counts.index, y=category_counts.values)\n",
    "plt.title('Category Distribution')\n",
    "plt.xlabel('Category')\n",
    "plt.ylabel('Count')\n",
    "plt.xticks(rotation=90)\n",
    "plt.show()"
   ]
  },
  {
   "cell_type": "markdown",
   "metadata": {
    "id": "RZegs33_i04h"
   },
   "source": [
    "## Word Cloud"
   ]
  },
  {
   "cell_type": "code",
   "execution_count": 13,
   "metadata": {
    "colab": {
     "base_uri": "https://localhost:8080/",
     "height": 446
    },
    "id": "hnTghAnueBeS",
    "outputId": "57abf614-4ea3-4b49-894e-b7d5765d2469"
   },
   "outputs": [
    {
     "data": {
      "image/png": "[encoded data removed]",
      "text/plain": [
       "<Figure size 1000x600 with 1 Axes>"
      ]
     },
     "metadata": {},
     "output_type": "display_data"
    }
   ],
   "source": [
    "# Word Cloud for text data\n",
    "text_data = \" \".join(df[\"description\"].tolist())\n",
    "wordcloud = WordCloud(width=800, height=400, background_color='white').generate(text_data)\n",
    "plt.figure(figsize=(10,6))\n",
    "plt.imshow(wordcloud, interpolation='bilinear')\n",
    "plt.axis('off')\n",
    "plt.title('Word Cloud for Descriptions')\n",
    "plt.show()"
   ]
  },
  {
   "cell_type": "markdown",
   "metadata": {
    "id": "shgsmRtui9z9"
   },
   "source": [
    "## Treemap"
   ]
  },
  {
   "cell_type": "code",
   "execution_count": 14,
   "metadata": {
    "colab": {
     "base_uri": "https://localhost:8080/",
     "height": 542
    },
    "id": "9Yk9_ErheDsZ",
    "outputId": "e6b7254f-0af3-42e0-a721-7f1221ab0bc2"
   },
   "outputs": [
    {
     "data": {
      "application/vnd.plotly.v1+json": {
       "config": {
        "plotlyServerURL": "https://plot.ly"
       },
       "data": [
        {
         "branchvalues": "total",
         "domain": {
          "x": [
           0,
           1
          ],
          "y": [
           0,
           1
          ]
         },
         "hovertemplate": "labels=%{label}<br>Count=%{value}<br>parent=%{parent}<br>id=%{id}<extra></extra>",
         "ids": [
          "Bahasa Nusantara",
          "Dongeng Nusantara",
          "Kuliner Nusantara",
          "Musik Nusantara",
          "Pakaian Nusantara",
          "Rumah Adat",
          "Sejarah Nusantara",
          "Seni dan Kerajinan",
          "Tarian Nusantara",
          "Tradisi Nusantara",
          "Wisata Nusantara"
         ],
         "labels": [
          "Bahasa Nusantara",
          "Dongeng Nusantara",
          "Kuliner Nusantara",
          "Musik Nusantara",
          "Pakaian Nusantara",
          "Rumah Adat",
          "Sejarah Nusantara",
          "Seni dan Kerajinan",
          "Tarian Nusantara",
          "Tradisi Nusantara",
          "Wisata Nusantara"
         ],
         "name": "",
         "parents": [
          "",
          "",
          "",
          "",
          "",
          "",
          "",
          "",
          "",
          "",
          ""
         ],
         "type": "treemap",
         "values": [
          827,
          6,
          39,
          26,
          21,
          13,
          60,
          12,
          13,
          41,
          37
         ]
        }
       ],
       "layout": {
        "legend": {
         "tracegroupgap": 0
        },
        "template": {
         "data": {
          "bar": [
           {
            "error_x": {
             "color": "#2a3f5f"
            },
            "error_y": {
             "color": "#2a3f5f"
            },
            "marker": {
             "line": {
              "color": "#E5ECF6",
              "width": 0.5
             },
             "pattern": {
              "fillmode": "overlay",
              "size": 10,
              "solidity": 0.2
             }
            },
            "type": "bar"
           }
          ],
          "barpolar": [
           {
            "marker": {
             "line": {
              "color": "#E5ECF6",
              "width": 0.5
             },
             "pattern": {
              "fillmode": "overlay",
              "size": 10,
              "solidity": 0.2
             }
            },
            "type": "barpolar"
           }
          ],
          "carpet": [
           {
            "aaxis": {
             "endlinecolor": "#2a3f5f",
             "gridcolor": "white",
             "linecolor": "white",
             "minorgridcolor": "white",
             "startlinecolor": "#2a3f5f"
            },
            "baxis": {
             "endlinecolor": "#2a3f5f",
             "gridcolor": "white",
             "linecolor": "white",
             "minorgridcolor": "white",
             "startlinecolor": "#2a3f5f"
            },
            "type": "carpet"
           }
          ],
          "choropleth": [
           {
            "colorbar": {
             "outlinewidth": 0,
             "ticks": ""
            },
            "type": "choropleth"
           }
          ],
          "contour": [
           {
            "colorbar": {
             "outlinewidth": 0,
             "ticks": ""
            },
            "colorscale": [
             [
              0,
              "#0d0887"
             ],
             [
              0.1111111111111111,
              "#46039f"
             ],
             [
              0.2222222222222222,
              "#7201a8"
             ],
             [
              0.3333333333333333,
              "#9c179e"
             ],
             [
              0.4444444444444444,
              "#bd3786"
             ],
             [
              0.5555555555555556,
              "#d8576b"
             ],
             [
              0.6666666666666666,
              "#ed7953"
             ],
             [
              0.7777777777777778,
              "#fb9f3a"
             ],
             [
              0.8888888888888888,
              "#fdca26"
             ],
             [
              1,
              "#f0f921"
             ]
            ],
            "type": "contour"
           }
          ],
          "contourcarpet": [
           {
            "colorbar": {
             "outlinewidth": 0,
             "ticks": ""
            },
            "type": "contourcarpet"
           }
          ],
          "heatmap": [
           {
            "colorbar": {
             "outlinewidth": 0,
             "ticks": ""
            },
            "colorscale": [
             [
              0,
              "#0d0887"
             ],
             [
              0.1111111111111111,
              "#46039f"
             ],
             [
              0.2222222222222222,
              "#7201a8"
             ],
             [
              0.3333333333333333,
              "#9c179e"
             ],
             [
              0.4444444444444444,
              "#bd3786"
             ],
             [
              0.5555555555555556,
              "#d8576b"
             ],
             [
              0.6666666666666666,
              "#ed7953"
             ],
             [
              0.7777777777777778,
              "#fb9f3a"
             ],
             [
              0.8888888888888888,
              "#fdca26"
             ],
             [
              1,
              "#f0f921"
             ]
            ],
            "type": "heatmap"
           }
          ],
          "heatmapgl": [
           {
            "colorbar": {
             "outlinewidth": 0,
             "ticks": ""
            },
            "colorscale": [
             [
              0,
              "#0d0887"
             ],
             [
              0.1111111111111111,
              "#46039f"
             ],
             [
              0.2222222222222222,
              "#7201a8"
             ],
             [
              0.3333333333333333,
              "#9c179e"
             ],
             [
              0.4444444444444444,
              "#bd3786"
             ],
             [
              0.5555555555555556,
              "#d8576b"
             ],
             [
              0.6666666666666666,
              "#ed7953"
             ],
             [
              0.7777777777777778,
              "#fb9f3a"
             ],
             [
              0.8888888888888888,
              "#fdca26"
             ],
             [
              1,
              "#f0f921"
             ]
            ],
            "type": "heatmapgl"
           }
          ],
          "histogram": [
           {
            "marker": {
             "pattern": {
              "fillmode": "overlay",
              "size": 10,
              "solidity": 0.2
             }
            },
            "type": "histogram"
           }
          ],
          "histogram2d": [
           {
            "colorbar": {
             "outlinewidth": 0,
             "ticks": ""
            },
            "colorscale": [
             [
              0,
              "#0d0887"
             ],
             [
              0.1111111111111111,
              "#46039f"
             ],
             [
              0.2222222222222222,
              "#7201a8"
             ],
             [
              0.3333333333333333,
              "#9c179e"
             ],
             [
              0.4444444444444444,
              "#bd3786"
             ],
             [
              0.5555555555555556,
              "#d8576b"
             ],
             [
              0.6666666666666666,
              "#ed7953"
             ],
             [
              0.7777777777777778,
              "#fb9f3a"
             ],
             [
              0.8888888888888888,
              "#fdca26"
             ],
             [
              1,
              "#f0f921"
             ]
            ],
            "type": "histogram2d"
           }
          ],
          "histogram2dcontour": [
           {
            "colorbar": {
             "outlinewidth": 0,
             "ticks": ""
            },
            "colorscale": [
             [
              0,
              "#0d0887"
             ],
             [
              0.1111111111111111,
              "#46039f"
             ],
             [
              0.2222222222222222,
              "#7201a8"
             ],
             [
              0.3333333333333333,
              "#9c179e"
             ],
             [
              0.4444444444444444,
              "#bd3786"
             ],
             [
              0.5555555555555556,
              "#d8576b"
             ],
             [
              0.6666666666666666,
              "#ed7953"
             ],
             [
              0.7777777777777778,
              "#fb9f3a"
             ],
             [
              0.8888888888888888,
              "#fdca26"
             ],
             [
              1,
              "#f0f921"
             ]
            ],
            "type": "histogram2dcontour"
           }
          ],
          "mesh3d": [
           {
            "colorbar": {
             "outlinewidth": 0,
             "ticks": ""
            },
            "type": "mesh3d"
           }
          ],
          "parcoords": [
           {
            "line": {
             "colorbar": {
              "outlinewidth": 0,
              "ticks": ""
             }
            },
            "type": "parcoords"
           }
          ],
          "pie": [
           {
            "automargin": true,
            "type": "pie"
           }
          ],
          "scatter": [
           {
            "fillpattern": {
             "fillmode": "overlay",
             "size": 10,
             "solidity": 0.2
            },
            "type": "scatter"
           }
          ],
          "scatter3d": [
           {
            "line": {
             "colorbar": {
              "outlinewidth": 0,
              "ticks": ""
             }
            },
            "marker": {
             "colorbar": {
              "outlinewidth": 0,
              "ticks": ""
             }
            },
            "type": "scatter3d"
           }
          ],
          "scattercarpet": [
           {
            "marker": {
             "colorbar": {
              "outlinewidth": 0,
              "ticks": ""
             }
            },
            "type": "scattercarpet"
           }
          ],
          "scattergeo": [
           {
            "marker": {
             "colorbar": {
              "outlinewidth": 0,
              "ticks": ""
             }
            },
            "type": "scattergeo"
           }
          ],
          "scattergl": [
           {
            "marker": {
             "colorbar": {
              "outlinewidth": 0,
              "ticks": ""
             }
            },
            "type": "scattergl"
           }
          ],
          "scattermapbox": [
           {
            "marker": {
             "colorbar": {
              "outlinewidth": 0,
              "ticks": ""
             }
            },
            "type": "scattermapbox"
           }
          ],
          "scatterpolar": [
           {
            "marker": {
             "colorbar": {
              "outlinewidth": 0,
              "ticks": ""
             }
            },
            "type": "scatterpolar"
           }
          ],
          "scatterpolargl": [
           {
            "marker": {
             "colorbar": {
              "outlinewidth": 0,
              "ticks": ""
             }
            },
            "type": "scatterpolargl"
           }
          ],
          "scatterternary": [
           {
            "marker": {
             "colorbar": {
              "outlinewidth": 0,
              "ticks": ""
             }
            },
            "type": "scatterternary"
           }
          ],
          "surface": [
           {
            "colorbar": {
             "outlinewidth": 0,
             "ticks": ""
            },
            "colorscale": [
             [
              0,
              "#0d0887"
             ],
             [
              0.1111111111111111,
              "#46039f"
             ],
             [
              0.2222222222222222,
              "#7201a8"
             ],
             [
              0.3333333333333333,
              "#9c179e"
             ],
             [
              0.4444444444444444,
              "#bd3786"
             ],
             [
              0.5555555555555556,
              "#d8576b"
             ],
             [
              0.6666666666666666,
              "#ed7953"
             ],
             [
              0.7777777777777778,
              "#fb9f3a"
             ],
             [
              0.8888888888888888,
              "#fdca26"
             ],
             [
              1,
              "#f0f921"
             ]
            ],
            "type": "surface"
           }
          ],
          "table": [
           {
            "cells": {
             "fill": {
              "color": "#EBF0F8"
             },
             "line": {
              "color": "white"
             }
            },
            "header": {
             "fill": {
              "color": "#C8D4E3"
             },
             "line": {
              "color": "white"
             }
            },
            "type": "table"
           }
          ]
         },
         "layout": {
          "annotationdefaults": {
           "arrowcolor": "#2a3f5f",
           "arrowhead": 0,
           "arrowwidth": 1
          },
          "autotypenumbers": "strict",
          "coloraxis": {
           "colorbar": {
            "outlinewidth": 0,
            "ticks": ""
           }
          },
          "colorscale": {
           "diverging": [
            [
             0,
             "#8e0152"
            ],
            [
             0.1,
             "#c51b7d"
            ],
            [
             0.2,
             "#de77ae"
            ],
            [
             0.3,
             "#f1b6da"
            ],
            [
             0.4,
             "#fde0ef"
            ],
            [
             0.5,
             "#f7f7f7"
            ],
            [
             0.6,
             "#e6f5d0"
            ],
            [
             0.7,
             "#b8e186"
            ],
            [
             0.8,
             "#7fbc41"
            ],
            [
             0.9,
             "#4d9221"
            ],
            [
             1,
             "#276419"
            ]
           ],
           "sequential": [
            [
             0,
             "#0d0887"
            ],
            [
             0.1111111111111111,
             "#46039f"
            ],
            [
             0.2222222222222222,
             "#7201a8"
            ],
            [
             0.3333333333333333,
             "#9c179e"
            ],
            [
             0.4444444444444444,
             "#bd3786"
            ],
            [
             0.5555555555555556,
             "#d8576b"
            ],
            [
             0.6666666666666666,
             "#ed7953"
            ],
            [
             0.7777777777777778,
             "#fb9f3a"
            ],
            [
             0.8888888888888888,
             "#fdca26"
            ],
            [
             1,
             "#f0f921"
            ]
           ],
           "sequentialminus": [
            [
             0,
             "#0d0887"
            ],
            [
             0.1111111111111111,
             "#46039f"
            ],
            [
             0.2222222222222222,
             "#7201a8"
            ],
            [
             0.3333333333333333,
             "#9c179e"
            ],
            [
             0.4444444444444444,
             "#bd3786"
            ],
            [
             0.5555555555555556,
             "#d8576b"
            ],
            [
             0.6666666666666666,
             "#ed7953"
            ],
            [
             0.7777777777777778,
             "#fb9f3a"
            ],
            [
             0.8888888888888888,
             "#fdca26"
            ],
            [
             1,
             "#f0f921"
            ]
           ]
          },
          "colorway": [
           "#636efa",
           "#EF553B",
           "#00cc96",
           "#ab63fa",
           "#FFA15A",
           "#19d3f3",
           "#FF6692",
           "#B6E880",
           "#FF97FF",
           "#FECB52"
          ],
          "font": {
           "color": "#2a3f5f"
          },
          "geo": {
           "bgcolor": "white",
           "lakecolor": "white",
           "landcolor": "#E5ECF6",
           "showlakes": true,
           "showland": true,
           "subunitcolor": "white"
          },
          "hoverlabel": {
           "align": "left"
          },
          "hovermode": "closest",
          "mapbox": {
           "style": "light"
          },
          "paper_bgcolor": "white",
          "plot_bgcolor": "#E5ECF6",
          "polar": {
           "angularaxis": {
            "gridcolor": "white",
            "linecolor": "white",
            "ticks": ""
           },
           "bgcolor": "#E5ECF6",
           "radialaxis": {
            "gridcolor": "white",
            "linecolor": "white",
            "ticks": ""
           }
          },
          "scene": {
           "xaxis": {
            "backgroundcolor": "#E5ECF6",
            "gridcolor": "white",
            "gridwidth": 2,
            "linecolor": "white",
            "showbackground": true,
            "ticks": "",
            "zerolinecolor": "white"
           },
           "yaxis": {
            "backgroundcolor": "#E5ECF6",
            "gridcolor": "white",
            "gridwidth": 2,
            "linecolor": "white",
            "showbackground": true,
            "ticks": "",
            "zerolinecolor": "white"
           },
           "zaxis": {
            "backgroundcolor": "#E5ECF6",
            "gridcolor": "white",
            "gridwidth": 2,
            "linecolor": "white",
            "showbackground": true,
            "ticks": "",
            "zerolinecolor": "white"
           }
          },
          "shapedefaults": {
           "line": {
            "color": "#2a3f5f"
           }
          },
          "ternary": {
           "aaxis": {
            "gridcolor": "white",
            "linecolor": "white",
            "ticks": ""
           },
           "baxis": {
            "gridcolor": "white",
            "linecolor": "white",
            "ticks": ""
           },
           "bgcolor": "#E5ECF6",
           "caxis": {
            "gridcolor": "white",
            "linecolor": "white",
            "ticks": ""
           }
          },
          "title": {
           "x": 0.05
          },
          "xaxis": {
           "automargin": true,
           "gridcolor": "white",
           "linecolor": "white",
           "ticks": "",
           "title": {
            "standoff": 15
           },
           "zerolinecolor": "white",
           "zerolinewidth": 2
          },
          "yaxis": {
           "automargin": true,
           "gridcolor": "white",
           "linecolor": "white",
           "ticks": "",
           "title": {
            "standoff": 15
           },
           "zerolinecolor": "white",
           "zerolinewidth": 2
          }
         }
        },
        "title": {
         "text": "Category Distribution Treemap"
        }
       }
      }
     },
     "metadata": {},
     "output_type": "display_data"
    }
   ],
   "source": [
    "# Treemap of category distribution using Plotly\n",
    "category_counts_df = category_counts.reset_index().rename(columns={'index': 'category', 'count': 'Count'})\n",
    "fig = px.treemap(category_counts_df, path=['category'], values='Count', title='Category Distribution Treemap')\n",
    "fig.show()\n"
   ]
  },
  {
   "cell_type": "markdown",
   "metadata": {
    "id": "k3uTF_1ljB_4"
   },
   "source": [
    "## Network Graph"
   ]
  },
  {
   "cell_type": "code",
   "execution_count": 15,
   "metadata": {
    "id": "q84McN-viRSQ"
   },
   "outputs": [],
   "source": [
    "# Creating the Graph: Nodes = Categories, Edges = Relationships between entries with the same category\n",
    "category_counts = df['category'].value_counts()  # Count the number of entries for each category\n",
    "categories = category_counts.index.tolist()  # List of category names\n",
    "\n",
    "# Create an empty graph\n",
    "G = nx.Graph()\n",
    "# Add nodes for each category\n",
    "for category in categories:\n",
    "    G.add_node(category, size=category_counts[category])  # Add category nodes with size based on entry count\n",
    "\n",
    "# Add edges (relationships between categories based on shared category entries)\n",
    "# This is an example: if entries share the same category, connect them\n",
    "for idx, row in df.iterrows():\n",
    "    current_category = row['category']\n",
    "    # Connect categories based on entries (no duplication, just an example)\n",
    "    for other_category in categories:\n",
    "        if current_category != other_category:\n",
    "            G.add_edge(current_category, other_category)"
   ]
  },
  {
   "cell_type": "code",
   "execution_count": 16,
   "metadata": {
    "id": "ucveeg7_kLHy"
   },
   "outputs": [],
   "source": [
    "# Positioning Nodes in the Graph (using NetworkX layout)\n",
    "pos = nx.spring_layout(G)  # Using the 'spring' layout for node positions\n",
    "\n",
    "# X and Y coordinates for each node\n",
    "node_x = []\n",
    "node_y = []\n",
    "node_text = []  # To store node labels\n",
    "\n",
    "for node in G.nodes():\n",
    "    node_x.append(pos[node][0])\n",
    "    node_y.append(pos[node][1])\n",
    "    node_text.append(f'{node} ({category_counts[node]} entries)')  # Label: Category name and entry count\n",
    "\n",
    "# Edges between nodes\n",
    "edge_x = []\n",
    "edge_y = []\n",
    "\n",
    "for edge in G.edges():\n",
    "    x0, y0 = pos[edge[0]]\n",
    "    x1, y1 = pos[edge[1]]\n",
    "    edge_x.append(x0)\n",
    "    edge_y.append(y0)\n",
    "    edge_x.append(x1)\n",
    "    edge_y.append(y1)"
   ]
  },
  {
   "cell_type": "code",
   "execution_count": null,
   "metadata": {
    "colab": {
     "base_uri": "https://localhost:8080/",
     "height": 542
    },
    "id": "7Ro7YCK7kiYA",
    "outputId": "663df311-6148-418f-ba38-18c0223d8390"
   },
   "outputs": [
    {
     "data": {
      "application/vnd.plotly.v1+json": {
       "config": {
        "plotlyServerURL": "https://plot.ly"
       },
       "data": [
        {
         "hoverinfo": "none",
         "line": {
          "color": "#888",
          "width": 0.5
         },
         "mode": "lines",
         "type": "scatter",
         "x": [
          -0.9388278885687474,
          0.9290490486478422,
          -0.9388278885687474,
          -0.31682836613599047,
          -0.9388278885687474,
          0.9506487647567651,
          -0.9388278885687474,
          -0.8949063788891047,
          -0.9388278885687474,
          0.5102401294692355,
          -0.9388278885687474,
          -0.6558517260202462,
          -0.9388278885687474,
          0.4280173761879798,
          -0.9388278885687474,
          -0.1397932183814581,
          -0.9388278885687474,
          -0.15041241786821932,
          -0.9388278885687474,
          0.27866467680194407,
          0.4280173761879798,
          0.9290490486478422,
          0.4280173761879798,
          -0.31682836613599047,
          0.4280173761879798,
          0.9506487647567651,
          0.4280173761879798,
          -0.8949063788891047,
          0.4280173761879798,
          0.5102401294692355,
          0.4280173761879798,
          -0.6558517260202462,
          0.4280173761879798,
          -0.15041241786821932,
          0.4280173761879798,
          0.27866467680194407,
          0.4280173761879798,
          -0.1397932183814581,
          0.9506487647567651,
          0.9290490486478422,
          0.9506487647567651,
          -0.31682836613599047,
          0.9506487647567651,
          0.5102401294692355,
          0.9506487647567651,
          -0.15041241786821932,
          0.9506487647567651,
          0.27866467680194407,
          0.9506487647567651,
          -0.6558517260202462,
          0.9506487647567651,
          -0.8949063788891047,
          0.9506487647567651,
          -0.1397932183814581,
          0.5102401294692355,
          0.9290490486478422,
          0.5102401294692355,
          -0.31682836613599047,
          0.5102401294692355,
          -0.8949063788891047,
          0.5102401294692355,
          -0.15041241786821932,
          0.5102401294692355,
          0.27866467680194407,
          0.5102401294692355,
          -0.6558517260202462,
          0.5102401294692355,
          -0.1397932183814581,
          -0.15041241786821932,
          0.9290490486478422,
          -0.15041241786821932,
          -0.31682836613599047,
          -0.15041241786821932,
          -0.8949063788891047,
          -0.15041241786821932,
          -0.6558517260202462,
          -0.15041241786821932,
          -0.1397932183814581,
          -0.15041241786821932,
          0.27866467680194407,
          0.27866467680194407,
          0.9290490486478422,
          0.27866467680194407,
          -0.31682836613599047,
          0.27866467680194407,
          -0.8949063788891047,
          0.27866467680194407,
          -0.6558517260202462,
          0.27866467680194407,
          -0.1397932183814581,
          -0.6558517260202462,
          0.9290490486478422,
          -0.6558517260202462,
          -0.31682836613599047,
          -0.6558517260202462,
          -0.8949063788891047,
          -0.6558517260202462,
          -0.1397932183814581,
          0.9290490486478422,
          -0.8949063788891047,
          0.9290490486478422,
          -0.31682836613599047,
          0.9290490486478422,
          -0.1397932183814581,
          -0.8949063788891047,
          -0.31682836613599047,
          -0.8949063788891047,
          -0.1397932183814581,
          -0.31682836613599047,
          -0.1397932183814581
         ],
         "y": [
          0.17835765327105596,
          0.5233199693843832,
          0.17835765327105596,
          -0.9859216793381731,
          0.17835765327105596,
          -0.41289859775450904,
          0.17835765327105596,
          -0.47216361397097484,
          0.17835765327105596,
          0.07782798949145421,
          0.17835765327105596,
          0.8297662994299876,
          0.17835765327105596,
          -0.9103212316183317,
          0.17835765327105596,
          -0.33560105356803516,
          0.17835765327105596,
          0.5076342646731443,
          0.17835765327105596,
          0.9999999999999999,
          -0.9103212316183317,
          0.5233199693843832,
          -0.9103212316183317,
          -0.9859216793381731,
          -0.9103212316183317,
          -0.41289859775450904,
          -0.9103212316183317,
          -0.47216361397097484,
          -0.9103212316183317,
          0.07782798949145421,
          -0.9103212316183317,
          0.8297662994299876,
          -0.9103212316183317,
          0.5076342646731443,
          -0.9103212316183317,
          0.9999999999999999,
          -0.9103212316183317,
          -0.33560105356803516,
          -0.41289859775450904,
          0.5233199693843832,
          -0.41289859775450904,
          -0.9859216793381731,
          -0.41289859775450904,
          0.07782798949145421,
          -0.41289859775450904,
          0.5076342646731443,
          -0.41289859775450904,
          0.9999999999999999,
          -0.41289859775450904,
          0.8297662994299876,
          -0.41289859775450904,
          -0.47216361397097484,
          -0.41289859775450904,
          -0.33560105356803516,
          0.07782798949145421,
          0.5233199693843832,
          0.07782798949145421,
          -0.9859216793381731,
          0.07782798949145421,
          -0.47216361397097484,
          0.07782798949145421,
          0.5076342646731443,
          0.07782798949145421,
          0.9999999999999999,
          0.07782798949145421,
          0.8297662994299876,
          0.07782798949145421,
          -0.33560105356803516,
          0.5076342646731443,
          0.5233199693843832,
          0.5076342646731443,
          -0.9859216793381731,
          0.5076342646731443,
          -0.47216361397097484,
          0.5076342646731443,
          0.8297662994299876,
          0.5076342646731443,
          -0.33560105356803516,
          0.5076342646731443,
          0.9999999999999999,
          0.9999999999999999,
          0.5233199693843832,
          0.9999999999999999,
          -0.9859216793381731,
          0.9999999999999999,
          -0.47216361397097484,
          0.9999999999999999,
          0.8297662994299876,
          0.9999999999999999,
          -0.33560105356803516,
          0.8297662994299876,
          0.5233199693843832,
          0.8297662994299876,
          -0.9859216793381731,
          0.8297662994299876,
          -0.47216361397097484,
          0.8297662994299876,
          -0.33560105356803516,
          0.5233199693843832,
          -0.47216361397097484,
          0.5233199693843832,
          -0.9859216793381731,
          0.5233199693843832,
          -0.33560105356803516,
          -0.47216361397097484,
          -0.9859216793381731,
          -0.47216361397097484,
          -0.33560105356803516,
          -0.9859216793381731,
          -0.33560105356803516
         ]
        },
        {
         "hoverinfo": "text",
         "marker": {
          "color": [
           827,
           60,
           41,
           39,
           37,
           26,
           21,
           13,
           13,
           12,
           6
          ],
          "colorbar": {
           "thickness": 15,
           "title": {
            "side": "right",
            "text": "Node Size"
           },
           "xanchor": "left"
          },
          "colorscale": [
           [
            0,
            "rgb(255,255,217)"
           ],
           [
            0.125,
            "rgb(237,248,177)"
           ],
           [
            0.25,
            "rgb(199,233,180)"
           ],
           [
            0.375,
            "rgb(127,205,187)"
           ],
           [
            0.5,
            "rgb(65,182,196)"
           ],
           [
            0.625,
            "rgb(29,145,192)"
           ],
           [
            0.75,
            "rgb(34,94,168)"
           ],
           [
            0.875,
            "rgb(37,52,148)"
           ],
           [
            1,
            "rgb(8,29,88)"
           ]
          ],
          "showscale": true,
          "size": 20
         },
         "mode": "markers",
         "text": [
          "Bahasa Nusantara (827 entries)",
          "Sejarah Nusantara (60 entries)",
          "Tradisi Nusantara (41 entries)",
          "Kuliner Nusantara (39 entries)",
          "Wisata Nusantara (37 entries)",
          "Musik Nusantara (26 entries)",
          "Pakaian Nusantara (21 entries)",
          "Tarian Nusantara (13 entries)",
          "Rumah Adat (13 entries)",
          "Seni dan Kerajinan (12 entries)",
          "Dongeng Nusantara (6 entries)"
         ],
         "type": "scatter",
         "x": [
          -0.9388278885687474,
          0.4280173761879798,
          0.9506487647567651,
          0.5102401294692355,
          -0.15041241786821932,
          0.27866467680194407,
          -0.6558517260202462,
          0.9290490486478422,
          -0.8949063788891047,
          -0.31682836613599047,
          -0.1397932183814581
         ],
         "y": [
          0.17835765327105596,
          -0.9103212316183317,
          -0.41289859775450904,
          0.07782798949145421,
          0.5076342646731443,
          0.9999999999999999,
          0.8297662994299876,
          0.5233199693843832,
          -0.47216361397097484,
          -0.9859216793381731,
          -0.33560105356803516
         ]
        }
       ],
       "layout": {
        "hovermode": "closest",
        "showlegend": false,
        "template": {
         "data": {
          "bar": [
           {
            "error_x": {
             "color": "#2a3f5f"
            },
            "error_y": {
             "color": "#2a3f5f"
            },
            "marker": {
             "line": {
              "color": "#E5ECF6",
              "width": 0.5
             },
             "pattern": {
              "fillmode": "overlay",
              "size": 10,
              "solidity": 0.2
             }
            },
            "type": "bar"
           }
          ],
          "barpolar": [
           {
            "marker": {
             "line": {
              "color": "#E5ECF6",
              "width": 0.5
             },
             "pattern": {
              "fillmode": "overlay",
              "size": 10,
              "solidity": 0.2
             }
            },
            "type": "barpolar"
           }
          ],
          "carpet": [
           {
            "aaxis": {
             "endlinecolor": "#2a3f5f",
             "gridcolor": "white",
             "linecolor": "white",
             "minorgridcolor": "white",
             "startlinecolor": "#2a3f5f"
            },
            "baxis": {
             "endlinecolor": "#2a3f5f",
             "gridcolor": "white",
             "linecolor": "white",
             "minorgridcolor": "white",
             "startlinecolor": "#2a3f5f"
            },
            "type": "carpet"
           }
          ],
          "choropleth": [
           {
            "colorbar": {
             "outlinewidth": 0,
             "ticks": ""
            },
            "type": "choropleth"
           }
          ],
          "contour": [
           {
            "colorbar": {
             "outlinewidth": 0,
             "ticks": ""
            },
            "colorscale": [
             [
              0,
              "#0d0887"
             ],
             [
              0.1111111111111111,
              "#46039f"
             ],
             [
              0.2222222222222222,
              "#7201a8"
             ],
             [
              0.3333333333333333,
              "#9c179e"
             ],
             [
              0.4444444444444444,
              "#bd3786"
             ],
             [
              0.5555555555555556,
              "#d8576b"
             ],
             [
              0.6666666666666666,
              "#ed7953"
             ],
             [
              0.7777777777777778,
              "#fb9f3a"
             ],
             [
              0.8888888888888888,
              "#fdca26"
             ],
             [
              1,
              "#f0f921"
             ]
            ],
            "type": "contour"
           }
          ],
          "contourcarpet": [
           {
            "colorbar": {
             "outlinewidth": 0,
             "ticks": ""
            },
            "type": "contourcarpet"
           }
          ],
          "heatmap": [
           {
            "colorbar": {
             "outlinewidth": 0,
             "ticks": ""
            },
            "colorscale": [
             [
              0,
              "#0d0887"
             ],
             [
              0.1111111111111111,
              "#46039f"
             ],
             [
              0.2222222222222222,
              "#7201a8"
             ],
             [
              0.3333333333333333,
              "#9c179e"
             ],
             [
              0.4444444444444444,
              "#bd3786"
             ],
             [
              0.5555555555555556,
              "#d8576b"
             ],
             [
              0.6666666666666666,
              "#ed7953"
             ],
             [
              0.7777777777777778,
              "#fb9f3a"
             ],
             [
              0.8888888888888888,
              "#fdca26"
             ],
             [
              1,
              "#f0f921"
             ]
            ],
            "type": "heatmap"
           }
          ],
          "heatmapgl": [
           {
            "colorbar": {
             "outlinewidth": 0,
             "ticks": ""
            },
            "colorscale": [
             [
              0,
              "#0d0887"
             ],
             [
              0.1111111111111111,
              "#46039f"
             ],
             [
              0.2222222222222222,
              "#7201a8"
             ],
             [
              0.3333333333333333,
              "#9c179e"
             ],
             [
              0.4444444444444444,
              "#bd3786"
             ],
             [
              0.5555555555555556,
              "#d8576b"
             ],
             [
              0.6666666666666666,
              "#ed7953"
             ],
             [
              0.7777777777777778,
              "#fb9f3a"
             ],
             [
              0.8888888888888888,
              "#fdca26"
             ],
             [
              1,
              "#f0f921"
             ]
            ],
            "type": "heatmapgl"
           }
          ],
          "histogram": [
           {
            "marker": {
             "pattern": {
              "fillmode": "overlay",
              "size": 10,
              "solidity": 0.2
             }
            },
            "type": "histogram"
           }
          ],
          "histogram2d": [
           {
            "colorbar": {
             "outlinewidth": 0,
             "ticks": ""
            },
            "colorscale": [
             [
              0,
              "#0d0887"
             ],
             [
              0.1111111111111111,
              "#46039f"
             ],
             [
              0.2222222222222222,
              "#7201a8"
             ],
             [
              0.3333333333333333,
              "#9c179e"
             ],
             [
              0.4444444444444444,
              "#bd3786"
             ],
             [
              0.5555555555555556,
              "#d8576b"
             ],
             [
              0.6666666666666666,
              "#ed7953"
             ],
             [
              0.7777777777777778,
              "#fb9f3a"
             ],
             [
              0.8888888888888888,
              "#fdca26"
             ],
             [
              1,
              "#f0f921"
             ]
            ],
            "type": "histogram2d"
           }
          ],
          "histogram2dcontour": [
           {
            "colorbar": {
             "outlinewidth": 0,
             "ticks": ""
            },
            "colorscale": [
             [
              0,
              "#0d0887"
             ],
             [
              0.1111111111111111,
              "#46039f"
             ],
             [
              0.2222222222222222,
              "#7201a8"
             ],
             [
              0.3333333333333333,
              "#9c179e"
             ],
             [
              0.4444444444444444,
              "#bd3786"
             ],
             [
              0.5555555555555556,
              "#d8576b"
             ],
             [
              0.6666666666666666,
              "#ed7953"
             ],
             [
              0.7777777777777778,
              "#fb9f3a"
             ],
             [
              0.8888888888888888,
              "#fdca26"
             ],
             [
              1,
              "#f0f921"
             ]
            ],
            "type": "histogram2dcontour"
           }
          ],
          "mesh3d": [
           {
            "colorbar": {
             "outlinewidth": 0,
             "ticks": ""
            },
            "type": "mesh3d"
           }
          ],
          "parcoords": [
           {
            "line": {
             "colorbar": {
              "outlinewidth": 0,
              "ticks": ""
             }
            },
            "type": "parcoords"
           }
          ],
          "pie": [
           {
            "automargin": true,
            "type": "pie"
           }
          ],
          "scatter": [
           {
            "fillpattern": {
             "fillmode": "overlay",
             "size": 10,
             "solidity": 0.2
            },
            "type": "scatter"
           }
          ],
          "scatter3d": [
           {
            "line": {
             "colorbar": {
              "outlinewidth": 0,
              "ticks": ""
             }
            },
            "marker": {
             "colorbar": {
              "outlinewidth": 0,
              "ticks": ""
             }
            },
            "type": "scatter3d"
           }
          ],
          "scattercarpet": [
           {
            "marker": {
             "colorbar": {
              "outlinewidth": 0,
              "ticks": ""
             }
            },
            "type": "scattercarpet"
           }
          ],
          "scattergeo": [
           {
            "marker": {
             "colorbar": {
              "outlinewidth": 0,
              "ticks": ""
             }
            },
            "type": "scattergeo"
           }
          ],
          "scattergl": [
           {
            "marker": {
             "colorbar": {
              "outlinewidth": 0,
              "ticks": ""
             }
            },
            "type": "scattergl"
           }
          ],
          "scattermapbox": [
           {
            "marker": {
             "colorbar": {
              "outlinewidth": 0,
              "ticks": ""
             }
            },
            "type": "scattermapbox"
           }
          ],
          "scatterpolar": [
           {
            "marker": {
             "colorbar": {
              "outlinewidth": 0,
              "ticks": ""
             }
            },
            "type": "scatterpolar"
           }
          ],
          "scatterpolargl": [
           {
            "marker": {
             "colorbar": {
              "outlinewidth": 0,
              "ticks": ""
             }
            },
            "type": "scatterpolargl"
           }
          ],
          "scatterternary": [
           {
            "marker": {
             "colorbar": {
              "outlinewidth": 0,
              "ticks": ""
             }
            },
            "type": "scatterternary"
           }
          ],
          "surface": [
           {
            "colorbar": {
             "outlinewidth": 0,
             "ticks": ""
            },
            "colorscale": [
             [
              0,
              "#0d0887"
             ],
             [
              0.1111111111111111,
              "#46039f"
             ],
             [
              0.2222222222222222,
              "#7201a8"
             ],
             [
              0.3333333333333333,
              "#9c179e"
             ],
             [
              0.4444444444444444,
              "#bd3786"
             ],
             [
              0.5555555555555556,
              "#d8576b"
             ],
             [
              0.6666666666666666,
              "#ed7953"
             ],
             [
              0.7777777777777778,
              "#fb9f3a"
             ],
             [
              0.8888888888888888,
              "#fdca26"
             ],
             [
              1,
              "#f0f921"
             ]
            ],
            "type": "surface"
           }
          ],
          "table": [
           {
            "cells": {
             "fill": {
              "color": "#EBF0F8"
             },
             "line": {
              "color": "white"
             }
            },
            "header": {
             "fill": {
              "color": "#C8D4E3"
             },
             "line": {
              "color": "white"
             }
            },
            "type": "table"
           }
          ]
         },
         "layout": {
          "annotationdefaults": {
           "arrowcolor": "#2a3f5f",
           "arrowhead": 0,
           "arrowwidth": 1
          },
          "autotypenumbers": "strict",
          "coloraxis": {
           "colorbar": {
            "outlinewidth": 0,
            "ticks": ""
           }
          },
          "colorscale": {
           "diverging": [
            [
             0,
             "#8e0152"
            ],
            [
             0.1,
             "#c51b7d"
            ],
            [
             0.2,
             "#de77ae"
            ],
            [
             0.3,
             "#f1b6da"
            ],
            [
             0.4,
             "#fde0ef"
            ],
            [
             0.5,
             "#f7f7f7"
            ],
            [
             0.6,
             "#e6f5d0"
            ],
            [
             0.7,
             "#b8e186"
            ],
            [
             0.8,
             "#7fbc41"
            ],
            [
             0.9,
             "#4d9221"
            ],
            [
             1,
             "#276419"
            ]
           ],
           "sequential": [
            [
             0,
             "#0d0887"
            ],
            [
             0.1111111111111111,
             "#46039f"
            ],
            [
             0.2222222222222222,
             "#7201a8"
            ],
            [
             0.3333333333333333,
             "#9c179e"
            ],
            [
             0.4444444444444444,
             "#bd3786"
            ],
            [
             0.5555555555555556,
             "#d8576b"
            ],
            [
             0.6666666666666666,
             "#ed7953"
            ],
            [
             0.7777777777777778,
             "#fb9f3a"
            ],
            [
             0.8888888888888888,
             "#fdca26"
            ],
            [
             1,
             "#f0f921"
            ]
           ],
           "sequentialminus": [
            [
             0,
             "#0d0887"
            ],
            [
             0.1111111111111111,
             "#46039f"
            ],
            [
             0.2222222222222222,
             "#7201a8"
            ],
            [
             0.3333333333333333,
             "#9c179e"
            ],
            [
             0.4444444444444444,
             "#bd3786"
            ],
            [
             0.5555555555555556,
             "#d8576b"
            ],
            [
             0.6666666666666666,
             "#ed7953"
            ],
            [
             0.7777777777777778,
             "#fb9f3a"
            ],
            [
             0.8888888888888888,
             "#fdca26"
            ],
            [
             1,
             "#f0f921"
            ]
           ]
          },
          "colorway": [
           "#636efa",
           "#EF553B",
           "#00cc96",
           "#ab63fa",
           "#FFA15A",
           "#19d3f3",
           "#FF6692",
           "#B6E880",
           "#FF97FF",
           "#FECB52"
          ],
          "font": {
           "color": "#2a3f5f"
          },
          "geo": {
           "bgcolor": "white",
           "lakecolor": "white",
           "landcolor": "#E5ECF6",
           "showlakes": true,
           "showland": true,
           "subunitcolor": "white"
          },
          "hoverlabel": {
           "align": "left"
          },
          "hovermode": "closest",
          "mapbox": {
           "style": "light"
          },
          "paper_bgcolor": "white",
          "plot_bgcolor": "#E5ECF6",
          "polar": {
           "angularaxis": {
            "gridcolor": "white",
            "linecolor": "white",
            "ticks": ""
           },
           "bgcolor": "#E5ECF6",
           "radialaxis": {
            "gridcolor": "white",
            "linecolor": "white",
            "ticks": ""
           }
          },
          "scene": {
           "xaxis": {
            "backgroundcolor": "#E5ECF6",
            "gridcolor": "white",
            "gridwidth": 2,
            "linecolor": "white",
            "showbackground": true,
            "ticks": "",
            "zerolinecolor": "white"
           },
           "yaxis": {
            "backgroundcolor": "#E5ECF6",
            "gridcolor": "white",
            "gridwidth": 2,
            "linecolor": "white",
            "showbackground": true,
            "ticks": "",
            "zerolinecolor": "white"
           },
           "zaxis": {
            "backgroundcolor": "#E5ECF6",
            "gridcolor": "white",
            "gridwidth": 2,
            "linecolor": "white",
            "showbackground": true,
            "ticks": "",
            "zerolinecolor": "white"
           }
          },
          "shapedefaults": {
           "line": {
            "color": "#2a3f5f"
           }
          },
          "ternary": {
           "aaxis": {
            "gridcolor": "white",
            "linecolor": "white",
            "ticks": ""
           },
           "baxis": {
            "gridcolor": "white",
            "linecolor": "white",
            "ticks": ""
           },
           "bgcolor": "#E5ECF6",
           "caxis": {
            "gridcolor": "white",
            "linecolor": "white",
            "ticks": ""
           }
          },
          "title": {
           "x": 0.05
          },
          "xaxis": {
           "automargin": true,
           "gridcolor": "white",
           "linecolor": "white",
           "ticks": "",
           "title": {
            "standoff": 15
           },
           "zerolinecolor": "white",
           "zerolinewidth": 2
          },
          "yaxis": {
           "automargin": true,
           "gridcolor": "white",
           "linecolor": "white",
           "ticks": "",
           "title": {
            "standoff": 15
           },
           "zerolinecolor": "white",
           "zerolinewidth": 2
          }
         }
        },
        "title": {
         "font": {
          "size": 16
         },
         "text": "Network Graph of Categories"
        },
        "xaxis": {
         "showgrid": false,
         "zeroline": false
        },
        "yaxis": {
         "showgrid": false,
         "zeroline": false
        }
       }
      }
     },
     "metadata": {},
     "output_type": "display_data"
    }
   ],
   "source": [
    "# Plot data\n",
    "# Adding edge trace\n",
    "edge_trace = go.Scatter(\n",
    "    x=edge_x, y=edge_y,\n",
    "    mode='lines',\n",
    "    line=dict(width=0.5, color='#888'),\n",
    "    hoverinfo='none'\n",
    ")\n",
    "\n",
    "# Adding node trace\n",
    "node_trace = go.Scatter(\n",
    "    x=node_x, y=node_y,\n",
    "    mode='markers',\n",
    "    hoverinfo='text',  # Display text on hover\n",
    "    marker=dict(\n",
    "        showscale=True,\n",
    "        colorscale='YlGnBu',  # Node coloring\n",
    "        size=20,\n",
    "        colorbar=dict(\n",
    "            thickness=15,\n",
    "            title='Node Size',\n",
    "            xanchor='left',\n",
    "            titleside='right'\n",
    "        )\n",
    "    )\n",
    ")\n",
    "\n",
    "# Coloring nodes based on the number of entries in each category\n",
    "node_trace.marker.color = [category_counts[node] for node in categories]  # Coloring based on entry count\n",
    "node_trace.text = node_text  # Adding text to nodes\n",
    "\n",
    "# Creating layout and displaying the graph\n",
    "fig = go.Figure(data=[edge_trace, node_trace],\n",
    "                layout=go.Layout(\n",
    "                    title='Network Graph of Categories',\n",
    "                    titlefont_size=16,\n",
    "                    showlegend=False,\n",
    "                    hovermode='closest',\n",
    "                    xaxis=dict(showgrid=False, zeroline=False),\n",
    "                    yaxis=dict(showgrid=False, zeroline=False)\n",
    "                ))\n",
    "\n",
    "fig.show()"
   ]
  },
  {
   "cell_type": "markdown",
   "metadata": {
    "id": "a-gB7af9opQw"
   },
   "source": [
    "# Define LSTM Model"
   ]
  },
  {
   "cell_type": "code",
   "execution_count": 18,
   "metadata": {
    "id": "ZBEU_uSMoqe1"
   },
   "outputs": [],
   "source": [
    "# Define LSTM-based model for classification\n",
    "class LSTMClassifier(nn.Module):\n",
    "    def __init__(self, vocab_size, embedding_dim, hidden_dim, output_dim, dropout):\n",
    "        super(LSTMClassifier, self).__init__()\n",
    "        self.embedding = nn.Embedding(vocab_size, embedding_dim)\n",
    "        self.lstm = nn.LSTM(embedding_dim, hidden_dim, batch_first=True)\n",
    "        self.fc = nn.Linear(hidden_dim, output_dim)\n",
    "        self.dropout = nn.Dropout(dropout)\n",
    "\n",
    "    def forward(self, x):\n",
    "        x = self.embedding(x)\n",
    "        _, (hidden, _) = self.lstm(x)\n",
    "        x = self.dropout(hidden[-1])\n",
    "        return self.fc(x)"
   ]
  },
  {
   "cell_type": "markdown",
   "metadata": {
    "id": "y9-RSl8ZouRI"
   },
   "source": [
    "# Hyperparameter Tuning and Model Evaluation"
   ]
  },
  {
   "cell_type": "code",
   "execution_count": 19,
   "metadata": {
    "id": "SGoeJNp1pAl2"
   },
   "outputs": [
    {
     "name": "stderr",
     "output_type": "stream",
     "text": [
      "2024-11-30 13:27:49,435 - INFO - Starting hyperparameter tuning...\n",
      "2024-11-30 13:27:49,435 - INFO - Testing model with lr=0.001, hidden_dim=64, dropout=0.3\n",
      "2024-11-30 13:27:51,840 - INFO - Testing model with lr=0.001, hidden_dim=64, dropout=0.5\n",
      "2024-11-30 13:27:54,037 - INFO - Testing model with lr=0.001, hidden_dim=128, dropout=0.3\n",
      "2024-11-30 13:27:57,504 - INFO - Testing model with lr=0.001, hidden_dim=128, dropout=0.5\n",
      "2024-11-30 13:28:00,828 - INFO - Testing model with lr=0.005, hidden_dim=64, dropout=0.3\n",
      "2024-11-30 13:28:02,953 - INFO - Testing model with lr=0.005, hidden_dim=64, dropout=0.5\n",
      "2024-11-30 13:28:05,214 - INFO - Testing model with lr=0.005, hidden_dim=128, dropout=0.3\n",
      "2024-11-30 13:28:08,867 - INFO - Testing model with lr=0.005, hidden_dim=128, dropout=0.5\n",
      "2024-11-30 13:28:12,221 - INFO - Best validation accuracy: 0.8536585365853658\n",
      "2024-11-30 13:28:12,256 - INFO - Best model params: (OrderedDict([('embedding.weight', tensor([[ 1.1730, -2.5142, -0.1969,  ...,  1.8696, -1.8285,  0.2816],\n",
      "        [-0.3183, -2.2392, -1.3352,  ..., -1.0585, -0.9144,  0.1613],\n",
      "        [ 1.4509, -0.0543, -0.7747,  ...,  1.7329,  0.8721, -0.5510],\n",
      "        ...,\n",
      "        [-1.1200, -2.2617, -0.5135,  ..., -0.8134, -0.1154,  0.2057],\n",
      "        [-0.1905, -0.8704,  0.8159,  ...,  0.1329,  1.1419,  1.9819],\n",
      "        [-0.8513, -1.1686,  2.5057,  ...,  0.3343,  0.6041, -0.6837]])), ('lstm.weight_ih_l0', tensor([[ 0.0969,  0.0900, -0.0206,  ..., -0.0238,  0.0783, -0.1437],\n",
      "        [ 0.1340, -0.0258, -0.0364,  ...,  0.0319,  0.0481,  0.0907],\n",
      "        [ 0.0862, -0.1236, -0.2342,  ...,  0.1465,  0.1211,  0.0433],\n",
      "        ...,\n",
      "        [ 0.1073, -0.0663,  0.0208,  ...,  0.1127, -0.0460,  0.1904],\n",
      "        [ 0.0446,  0.0285, -0.0172,  ...,  0.0541,  0.0586, -0.1096],\n",
      "        [-0.1351,  0.0560,  0.0325,  ..., -0.1502, -0.0378, -0.1059]])), ('lstm.weight_hh_l0', tensor([[ 0.1043,  0.1972, -0.0788,  ..., -0.0408,  0.1103,  0.0015],\n",
      "        [ 0.1456,  0.0236, -0.0798,  ..., -0.0743, -0.0330,  0.0375],\n",
      "        [ 0.0517, -0.0734, -0.1352,  ..., -0.1117,  0.0363, -0.0290],\n",
      "        ...,\n",
      "        [-0.0075,  0.0039, -0.1883,  ...,  0.1908,  0.0380,  0.0762],\n",
      "        [ 0.0400, -0.0323, -0.1827,  ...,  0.0026,  0.0799,  0.0282],\n",
      "        [ 0.1459,  0.0203, -0.1713,  ...,  0.0499, -0.0889,  0.0194]])), ('lstm.bias_ih_l0', tensor([ 0.1231,  0.0763,  0.0297,  0.2383,  0.0863,  0.2763,  0.1307,  0.1973,\n",
      "         0.2132,  0.1773,  0.0427,  0.2363,  0.2620,  0.1808,  0.2206,  0.1677,\n",
      "         0.1595,  0.2134,  0.0589,  0.1529,  0.1079, -0.0093,  0.0669,  0.1704,\n",
      "         0.1011,  0.0034, -0.0133,  0.2562,  0.1775,  0.3376,  0.2887,  0.2979,\n",
      "         0.0887,  0.1571,  0.1878,  0.1913,  0.2035,  0.1712,  0.2364,  0.3215,\n",
      "         0.0451,  0.0510,  0.1827,  0.1800,  0.2410,  0.0778,  0.0470,  0.1710,\n",
      "         0.2857,  0.2438,  0.0624,  0.2326, -0.0451,  0.2197,  0.1549,  0.2572,\n",
      "         0.1383,  0.1099,  0.2358,  0.2659,  0.2400,  0.0035,  0.1637,  0.1946,\n",
      "         0.0784,  0.0850,  0.1108, -0.0500, -0.0819,  0.0730,  0.2163,  0.0211,\n",
      "         0.1827,  0.1504,  0.1609,  0.1103,  0.1280,  0.1229, -0.0250, -0.0874,\n",
      "        -0.0770,  0.0025, -0.0502,  0.1591, -0.0237, -0.0180, -0.0129,  0.1378,\n",
      "         0.0769,  0.2243,  0.0764, -0.0352,  0.1651,  0.3006,  0.1032,  0.0930,\n",
      "        -0.0323, -0.0899,  0.0891, -0.1056,  0.1386,  0.0739, -0.0266,  0.1903,\n",
      "         0.0829, -0.0743,  0.1770,  0.0192,  0.2213,  0.1451,  0.0352, -0.0827,\n",
      "         0.0593,  0.0815,  0.0725,  0.0789, -0.0797, -0.0062,  0.1549,  0.0738,\n",
      "         0.2304,  0.0961, -0.0558, -0.0050, -0.0414,  0.1095, -0.0070, -0.0320,\n",
      "        -0.0952, -0.0032, -0.0753, -0.0538, -0.1099, -0.1261,  0.0575,  0.0841,\n",
      "         0.0503, -0.0847,  0.0326, -0.2080,  0.0144,  0.1026, -0.0507, -0.1989,\n",
      "         0.0942,  0.1861,  0.0690,  0.0049,  0.0305, -0.1343,  0.0054, -0.1850,\n",
      "         0.0364,  0.1210,  0.0186, -0.0250, -0.0006,  0.0041, -0.1238, -0.0167,\n",
      "         0.0653,  0.0846,  0.1965, -0.0074,  0.0167, -0.0722,  0.0849, -0.1065,\n",
      "         0.1096,  0.0732,  0.0281, -0.2443,  0.0479, -0.0279,  0.0113,  0.0057,\n",
      "        -0.0815,  0.0569, -0.0717,  0.0060,  0.0933, -0.0151, -0.0388, -0.1031,\n",
      "         0.1526, -0.0665,  0.0726,  0.1151,  0.1519, -0.0699, -0.0059,  0.0503,\n",
      "         0.2360,  0.0303,  0.0681,  0.2171,  0.1839,  0.1069,  0.2708,  0.2063,\n",
      "         0.2387,  0.2272,  0.1066,  0.3206,  0.1702,  0.0248,  0.2555,  0.2031,\n",
      "         0.1196,  0.1099,  0.0236,  0.0720,  0.1148,  0.1160,  0.1674,  0.2614,\n",
      "         0.1098,  0.1363, -0.0156,  0.2041,  0.3781,  0.2376,  0.2154,  0.2751,\n",
      "         0.0046,  0.1482,  0.0472,  0.1911,  0.1720,  0.1248,  0.0962,  0.2109,\n",
      "        -0.0123,  0.0403,  0.1691,  0.2421,  0.2289,  0.0815,  0.1593,  0.0571,\n",
      "         0.3469,  0.0043,  0.1875,  0.3783,  0.1829,  0.1673,  0.2183,  0.1585,\n",
      "         0.2743,  0.2137,  0.2210,  0.2741,  0.2190,  0.0473,  0.1121,  0.2275])), ('lstm.bias_hh_l0', tensor([ 1.9302e-01,  7.4278e-02,  6.3591e-03,  9.2798e-02,  2.6444e-01,\n",
      "         9.8034e-02,  2.0688e-01,  1.1405e-01,  1.5526e-01,  2.7462e-01,\n",
      "         8.5201e-02,  2.0662e-01,  2.2723e-01,  1.1620e-01,  1.1925e-01,\n",
      "         2.4038e-01,  1.5775e-01,  2.0907e-01,  1.1991e-01,  1.7869e-01,\n",
      "         2.0121e-01, -5.0964e-03,  1.1937e-01,  2.7200e-01,  1.5458e-01,\n",
      "         4.3504e-02,  5.4470e-02,  1.5798e-01,  2.0147e-01,  3.0007e-01,\n",
      "         2.2611e-01,  1.3939e-01,  9.7154e-02,  7.1002e-02,  1.7505e-01,\n",
      "         6.8569e-02,  1.9771e-01,  2.0640e-01,  7.7603e-02,  2.4718e-01,\n",
      "         1.3537e-01,  4.9008e-03,  1.5478e-01,  1.3789e-01,  2.4458e-01,\n",
      "         1.8755e-01,  6.1829e-03,  3.6917e-02,  2.4414e-01,  2.3322e-01,\n",
      "        -6.2101e-03,  3.1072e-01,  3.4303e-02,  5.8643e-02,  2.8216e-02,\n",
      "         1.5988e-01,  1.6589e-01,  6.4803e-02,  2.0508e-01,  1.3505e-01,\n",
      "         3.5129e-02,  3.8796e-02,  1.3101e-01,  1.7600e-01,  4.4657e-02,\n",
      "         1.2824e-01, -7.8002e-02,  7.5181e-02,  8.5869e-02,  3.0194e-02,\n",
      "         2.3120e-01,  3.9650e-02,  1.0382e-01,  1.2589e-01,  9.1416e-03,\n",
      "         8.4645e-02,  3.6537e-02,  1.5064e-02,  1.7764e-01,  5.0008e-02,\n",
      "         2.0025e-02,  8.5414e-02,  7.5201e-02,  1.1623e-01,  1.1746e-01,\n",
      "         6.7134e-02,  1.4837e-01,  1.8326e-01, -5.6138e-02,  4.0430e-02,\n",
      "         2.5316e-02,  1.4140e-01,  1.8655e-01,  1.5527e-01, -1.8873e-02,\n",
      "        -7.5631e-03,  1.0914e-01,  1.1455e-01,  1.3275e-01,  1.6692e-02,\n",
      "         2.7984e-01,  6.0751e-02, -1.6469e-02,  1.2088e-01,  7.2006e-02,\n",
      "        -4.3230e-02, -4.5531e-02,  7.6605e-02,  2.7949e-01,  1.1767e-01,\n",
      "         1.6411e-01, -4.2154e-02,  1.6004e-01,  1.1796e-04,  2.6733e-02,\n",
      "         5.3913e-02, -4.7985e-02,  1.3467e-01, -7.9375e-03,  1.0311e-01,\n",
      "         2.1725e-01,  3.1520e-02, -4.1473e-04,  8.8891e-02, -3.5558e-04,\n",
      "         2.6524e-02, -2.6328e-02,  1.3609e-01, -3.0420e-02, -1.1535e-02,\n",
      "         5.2927e-02, -1.1685e-01, -1.3858e-01,  1.2219e-02,  2.3107e-01,\n",
      "         1.5399e-01, -3.4606e-02,  3.5417e-02, -7.5226e-02, -4.8269e-02,\n",
      "        -1.8683e-01,  8.7336e-02, -2.7327e-02, -1.2951e-01, -4.5646e-02,\n",
      "         9.7373e-02, -1.0126e-01,  1.0206e-01,  2.9169e-02, -7.2687e-02,\n",
      "        -1.0566e-01, -1.6330e-01, -8.2357e-02,  1.4759e-01,  1.0936e-01,\n",
      "         5.1217e-02, -1.2828e-02,  4.1351e-02,  9.2112e-02,  4.7690e-04,\n",
      "         1.0227e-01, -8.8581e-02,  1.9416e-01, -4.1953e-02,  6.1073e-02,\n",
      "         4.4789e-02,  1.4561e-01, -5.7669e-03, -5.4024e-03,  2.0743e-05,\n",
      "         1.1149e-01, -1.1810e-01,  1.7363e-01,  2.3033e-02, -1.1320e-01,\n",
      "         8.9576e-02, -7.0330e-02,  7.7552e-02,  5.3995e-02,  7.3426e-02,\n",
      "         8.4990e-02,  3.4658e-02, -6.9395e-02,  7.6308e-02,  3.2302e-02,\n",
      "        -5.0386e-02, -1.1171e-02,  1.2167e-01,  1.0807e-01, -3.6662e-02,\n",
      "         1.0101e-01,  4.8228e-03,  1.9608e-01,  2.4279e-01,  1.0234e-01,\n",
      "         1.9469e-01,  2.4885e-01,  1.6313e-01,  3.6741e-01,  3.1236e-03,\n",
      "         2.0737e-01,  4.6378e-02,  1.3590e-01,  3.1869e-01,  8.8814e-02,\n",
      "         5.0804e-02,  2.6205e-01,  1.0076e-01,  2.1335e-01,  1.3717e-01,\n",
      "         1.4581e-01,  1.4426e-01,  1.7504e-01,  2.6189e-02,  4.1958e-02,\n",
      "         2.3554e-01,  3.0166e-01,  1.2117e-01,  1.4059e-01,  2.5065e-01,\n",
      "         2.7641e-01,  3.0799e-01,  2.7344e-01,  2.6243e-01,  1.1416e-01,\n",
      "         2.4457e-01,  2.1535e-01,  2.0137e-01,  3.2998e-01,  1.4934e-01,\n",
      "         1.3958e-01,  2.8790e-01,  8.4943e-02,  7.1368e-02,  2.2122e-01,\n",
      "         6.0024e-02,  2.1504e-01,  1.0781e-01,  7.0907e-02,  1.9425e-01,\n",
      "         1.6791e-01,  2.5266e-02,  1.4962e-01,  3.5677e-01,  1.7493e-01,\n",
      "         1.1194e-01,  7.3632e-02,  2.9202e-01,  3.9136e-01,  3.4669e-02,\n",
      "         2.3501e-01,  2.5235e-01,  2.8544e-01,  8.6496e-02,  1.3013e-01,\n",
      "         2.2327e-01])), ('fc.weight', tensor([[ 1.5706e-01,  1.4810e-01, -1.4180e-01,  1.6799e-01, -1.4652e-01,\n",
      "          1.0014e-01, -2.5157e-01,  1.8818e-01,  1.3811e-01, -1.2034e-01,\n",
      "          1.4866e-01,  6.5805e-03,  1.2388e-01, -1.4671e-01,  2.5446e-01,\n",
      "          2.0095e-01, -1.8781e-01, -1.0141e-01,  2.3363e-01,  1.8822e-01,\n",
      "          5.4492e-02,  1.9540e-01, -1.7573e-01, -1.1397e-01, -1.8664e-02,\n",
      "         -1.7931e-01,  1.5046e-01, -1.1029e-01, -3.8858e-02,  5.2278e-02,\n",
      "         -2.0730e-01,  1.4422e-01, -3.3280e-02, -1.4295e-01,  1.3336e-01,\n",
      "         -4.7127e-02, -3.5571e-02,  9.0024e-02, -2.1675e-01,  1.2817e-01,\n",
      "         -8.4778e-02,  1.7289e-01, -1.4381e-01, -7.3232e-02,  1.8076e-01,\n",
      "          1.5217e-01,  2.0735e-02, -1.0598e-01, -8.3671e-02,  5.5581e-02,\n",
      "          1.9183e-01, -5.1286e-02, -1.8448e-01,  1.6747e-01, -1.8432e-01,\n",
      "          6.1193e-02,  4.0398e-02,  1.8570e-01, -1.2959e-01,  1.6420e-01,\n",
      "          8.2525e-02,  1.9367e-01, -1.7839e-01,  2.1862e-01],\n",
      "        [-7.4454e-02, -3.7804e-02, -2.9526e-02, -2.2900e-01,  1.6456e-01,\n",
      "         -2.1997e-01, -3.8340e-01,  3.3115e-02, -1.5541e-01,  9.4520e-02,\n",
      "          3.8268e-02,  7.1949e-02, -1.2764e-01,  1.7341e-01,  1.1474e-01,\n",
      "         -1.1936e-01,  1.1932e-01,  8.7068e-02,  5.8685e-02, -2.8340e-01,\n",
      "          5.4773e-02, -8.9917e-03,  1.5036e-01,  2.4983e-01,  8.7885e-02,\n",
      "          7.2710e-02, -3.3877e-01,  6.3911e-02,  2.8370e-01, -3.0204e-01,\n",
      "          4.7049e-02, -2.0353e-01,  1.7173e-01, -1.6646e-01, -2.3696e-01,\n",
      "          1.8949e-01, -1.3389e-02, -6.5542e-02,  1.1541e-02,  3.4150e-04,\n",
      "         -7.0627e-02, -4.3474e-02, -1.5587e-02, -7.1744e-03, -2.7996e-01,\n",
      "         -8.3672e-02, -2.1624e-02,  1.7933e-02,  3.0353e-01,  3.6517e-02,\n",
      "          1.5577e-03, -2.9536e-01,  2.9890e-02, -9.3315e-02,  1.7134e-02,\n",
      "         -6.3371e-02, -2.1111e-01, -8.0898e-03,  1.5993e-01, -1.8744e-01,\n",
      "         -8.4681e-02,  5.0022e-02, -9.4446e-02,  1.0721e-01],\n",
      "        [-2.8192e-01, -4.6711e-02, -6.1203e-02,  2.5381e-01, -2.7701e-01,\n",
      "         -2.0400e-01,  8.1788e-02, -3.0012e-01,  2.5415e-01,  1.7848e-01,\n",
      "         -2.5348e-01, -1.7011e-01, -1.4119e-01,  1.3325e-01, -3.1653e-01,\n",
      "         -2.3859e-01, -8.7005e-02,  2.4377e-01, -2.8458e-01,  1.0937e-01,\n",
      "         -1.7726e-01,  1.1708e-01, -1.0630e-01, -1.0393e-01,  2.0463e-01,\n",
      "          1.0821e-01,  1.6021e-02, -2.6372e-02, -2.3039e-01,  1.7404e-01,\n",
      "          5.2494e-02,  2.5566e-01,  1.8259e-01,  3.4880e-01,  1.2934e-01,\n",
      "          6.7054e-02,  2.0060e-01,  2.0268e-01,  2.1639e-01, -2.8241e-01,\n",
      "          1.4486e-01, -6.6053e-02,  2.1773e-01,  1.4597e-01, -3.9534e-02,\n",
      "         -1.6503e-01,  7.2662e-02,  3.0459e-01,  2.3034e-01, -1.9000e-01,\n",
      "         -5.3387e-02,  3.1318e-02,  2.5029e-02, -2.7601e-01,  6.4160e-03,\n",
      "          2.7626e-01,  2.0373e-01, -3.9578e-02,  3.5169e-01, -1.8912e-01,\n",
      "         -1.0979e-01, -1.4269e-01,  3.2372e-01, -6.4780e-02],\n",
      "        [ 1.8629e-01, -7.4867e-02, -4.1709e-02, -5.5059e-02,  2.0245e-01,\n",
      "          1.7674e-01,  1.3580e-01, -3.2433e-03, -1.0254e-01, -1.5036e-01,\n",
      "         -1.6536e-03, -3.0563e-01,  3.1356e-02,  1.4245e-01, -3.8773e-02,\n",
      "         -1.4602e-01,  1.4865e-01, -9.0573e-02, -1.3132e-01, -2.2878e-01,\n",
      "          1.1946e-01, -2.2996e-02,  6.8382e-02,  5.2692e-02,  1.4502e-01,\n",
      "         -2.0095e-01,  6.8716e-02,  5.8500e-02, -2.9437e-01,  2.7296e-01,\n",
      "          1.9021e-02,  2.2215e-01,  1.1785e-01,  2.7387e-01, -7.2209e-02,\n",
      "          2.2629e-01, -1.5085e-01,  1.5778e-02, -2.2525e-01, -1.4775e-01,\n",
      "          1.6804e-01,  3.6876e-02,  1.2547e-01, -1.2699e-03, -1.0790e-01,\n",
      "         -1.2232e-01,  9.1119e-02,  8.2930e-02,  2.8641e-01,  1.6944e-01,\n",
      "         -1.6865e-01, -2.6970e-01, -1.3206e-01,  1.7098e-01, -5.8165e-02,\n",
      "         -8.1696e-02,  2.4084e-01,  2.1315e-01, -9.0506e-02, -3.4179e-01,\n",
      "         -1.1390e-01,  1.5370e-01,  3.4526e-02, -2.2376e-01],\n",
      "        [-3.6001e-01, -3.1719e-02,  3.3496e-01, -5.0041e-02, -9.0296e-02,\n",
      "         -3.2043e-01,  1.4287e-01, -1.9230e-01, -5.8868e-02,  2.4839e-01,\n",
      "         -3.1602e-01,  4.3017e-01, -2.3817e-01, -5.6941e-02,  1.9439e-01,\n",
      "          3.0706e-02,  3.3932e-03,  2.4462e-01,  1.5456e-01, -2.0829e-01,\n",
      "         -1.0082e-01, -2.3621e-01,  1.8842e-01,  9.0248e-02,  1.8572e-01,\n",
      "          2.1182e-01, -1.6197e-01,  1.4611e-01,  1.5790e-01, -1.9481e-01,\n",
      "          2.8908e-01, -1.4579e-01, -1.5329e-01,  2.0352e-01,  1.3001e-01,\n",
      "          3.2751e-02,  6.9598e-02,  1.1448e-01, -2.9023e-02,  2.6191e-01,\n",
      "         -8.7042e-02,  1.3821e-01,  2.2791e-01,  1.8876e-01, -3.4983e-01,\n",
      "          9.1619e-02, -2.1470e-01,  1.3837e-01,  2.2575e-01, -4.3904e-02,\n",
      "          9.3558e-02,  1.7187e-01,  1.8014e-01, -2.5838e-01,  1.6348e-01,\n",
      "         -1.5017e-01,  2.2339e-01, -2.2729e-01, -1.1304e-01,  1.6252e-01,\n",
      "          9.0908e-02, -3.9016e-02,  1.9586e-01,  2.1394e-01],\n",
      "        [ 2.5196e-01, -1.4347e-01,  2.3141e-01,  8.5116e-02, -7.9981e-02,\n",
      "         -1.5427e-01, -4.3327e-01, -5.8841e-02,  3.3197e-02, -6.3037e-02,\n",
      "         -1.2773e-01,  5.7148e-02, -7.0836e-02,  2.0345e-01,  1.8338e-01,\n",
      "         -5.4382e-02,  8.1816e-02,  9.8747e-03, -1.1648e-02, -1.4201e-01,\n",
      "         -2.0076e-02, -1.3383e-01,  9.1038e-02,  4.0998e-02,  2.8574e-01,\n",
      "         -2.8822e-01, -3.0242e-02,  3.0082e-01, -3.1414e-01, -2.4106e-01,\n",
      "          2.6132e-01, -2.5508e-01,  2.0600e-01,  7.4856e-02, -3.1071e-01,\n",
      "         -3.2853e-02, -2.3432e-01, -1.1217e-02, -9.4917e-02, -6.8332e-02,\n",
      "          1.5568e-01,  1.0272e-02, -1.4771e-01,  3.5394e-01, -6.1856e-02,\n",
      "         -2.9420e-01, -1.1988e-01, -6.1049e-02,  9.3999e-02, -2.1846e-01,\n",
      "         -1.4613e-01,  1.7698e-01,  1.6380e-02,  1.1802e-01, -1.2280e-01,\n",
      "         -2.0269e-01, -4.1561e-01, -9.2871e-02,  1.6487e-01, -1.7318e-01,\n",
      "         -2.8019e-01, -1.1218e-01,  8.1023e-02, -1.8554e-01],\n",
      "        [ 1.0198e-01,  2.5978e-01,  2.7422e-01, -1.4095e-01,  2.1366e-01,\n",
      "         -2.3253e-01, -6.9907e-03,  1.3994e-01,  4.0872e-02, -1.4504e-01,\n",
      "         -6.9449e-02, -1.1099e-01,  6.7121e-02,  2.9188e-01, -1.4841e-01,\n",
      "         -1.0647e-01, -1.5086e-01,  1.7868e-01,  5.6416e-02, -1.7704e-01,\n",
      "         -2.6759e-01, -9.3110e-02,  7.6301e-02, -1.9837e-01, -2.7002e-01,\n",
      "          2.2694e-01, -1.0902e-01,  2.6565e-01,  2.4450e-01, -3.6406e-01,\n",
      "          1.3649e-01,  8.7454e-02,  2.6177e-01,  4.7221e-02,  3.3535e-02,\n",
      "         -4.8769e-02, -2.4235e-01,  1.0549e-03,  3.0430e-01,  6.9779e-02,\n",
      "          9.2451e-02, -2.0552e-01,  9.4315e-02, -2.6750e-01,  1.6582e-01,\n",
      "         -1.8687e-02, -6.6503e-02,  1.0180e-01, -2.8016e-01, -7.4999e-02,\n",
      "         -8.4255e-02,  8.6826e-02, -1.0384e-01, -6.2566e-02, -2.1279e-02,\n",
      "          8.2943e-02, -2.6462e-01, -2.0975e-01, -1.4698e-01,  1.0430e-01,\n",
      "          1.2568e-01, -2.7152e-01, -6.3097e-02,  3.1913e-01],\n",
      "        [ 3.5657e-02, -2.1088e-01,  1.0757e-01, -2.1265e-01,  5.0433e-02,\n",
      "         -2.2559e-01,  9.7420e-02, -3.3813e-01,  2.1370e-01,  2.0741e-01,\n",
      "          2.5615e-01, -5.5287e-02, -2.5391e-01,  1.1516e-01,  4.5295e-02,\n",
      "         -2.5885e-01,  1.1666e-01,  1.0627e-02, -7.4036e-02,  2.4337e-02,\n",
      "          5.6342e-02, -1.4705e-01,  1.3313e-01,  2.7361e-01,  1.8888e-01,\n",
      "         -1.2232e-01, -5.2161e-02,  1.3297e-01,  2.0956e-01,  9.5277e-02,\n",
      "         -1.3794e-01, -2.3858e-01, -7.5080e-02,  1.1702e-01, -7.5304e-02,\n",
      "          1.2887e-01, -4.1302e-02, -3.3766e-01, -6.2719e-02,  1.0337e-01,\n",
      "          1.6668e-01, -1.1102e-01,  1.8635e-01,  1.3299e-01,  7.4298e-02,\n",
      "         -1.7468e-01, -1.8997e-01, -9.2880e-03,  7.3391e-02,  7.3146e-02,\n",
      "         -1.0963e-01,  9.8994e-02, -3.5386e-03, -1.5205e-01,  7.7851e-02,\n",
      "         -3.5315e-01, -2.6994e-02, -1.7350e-01,  3.0292e-02, -1.4559e-01,\n",
      "         -5.0068e-02, -1.2763e-01, -1.2535e-01, -2.1245e-01],\n",
      "        [-8.8238e-02, -1.5505e-01,  1.1476e-01, -9.0952e-02,  2.0826e-01,\n",
      "         -4.1211e-02, -4.0450e-01, -1.9926e-01,  4.1222e-02,  1.3115e-01,\n",
      "         -1.0177e-01,  3.7586e-02, -1.4938e-02,  2.6904e-01, -1.7958e-01,\n",
      "         -2.3107e-02, -1.0056e-01,  1.9315e-01, -1.9476e-01,  1.1363e-02,\n",
      "          3.2158e-01, -7.1605e-02,  1.8430e-01,  2.6415e-01,  2.7054e-01,\n",
      "         -1.1749e-01, -1.5264e-01,  1.2107e-01, -2.6981e-01,  1.8646e-01,\n",
      "         -1.5508e-01, -8.6068e-03,  6.9576e-02, -8.0741e-02, -1.0543e-01,\n",
      "         -1.2382e-01,  2.7813e-01, -1.5849e-01,  9.3599e-02, -1.8786e-01,\n",
      "          2.4305e-01, -3.5492e-02, -8.4379e-02, -1.2233e-01, -1.8312e-01,\n",
      "         -2.2469e-01,  9.9597e-02,  2.7852e-02,  6.1795e-02, -6.1588e-02,\n",
      "          5.7882e-02,  1.1571e-01,  1.3964e-01, -2.7620e-01, -4.9472e-02,\n",
      "          2.6820e-01, -2.9406e-01, -2.1742e-01,  1.4412e-01,  2.9184e-01,\n",
      "         -2.9577e-01, -1.0383e-01, -1.0826e-01, -5.6445e-02],\n",
      "        [-3.5370e-01,  1.5897e-01, -9.9293e-02, -6.0500e-02, -9.4285e-02,\n",
      "          1.0439e-01,  1.0137e-01, -2.8755e-03, -1.8978e-01, -1.5370e-01,\n",
      "         -2.4803e-01,  2.1217e-01, -2.3608e-01, -2.0028e-01,  6.9723e-02,\n",
      "         -2.4238e-01,  3.7270e-01,  2.6484e-01, -2.0594e-01, -1.6257e-02,\n",
      "          2.3168e-01, -2.0184e-01, -8.0979e-02,  5.1437e-02,  6.7295e-02,\n",
      "          1.4199e-01,  1.4979e-02, -2.0362e-01, -4.3064e-03,  2.6732e-01,\n",
      "         -2.0055e-01, -3.7612e-01, -1.3345e-01, -1.1602e-01, -9.2952e-02,\n",
      "          2.3655e-01,  2.6971e-01, -1.1546e-01,  1.4862e-01, -3.2922e-01,\n",
      "          2.5632e-01, -8.6497e-03,  7.5806e-02, -1.1942e-01,  7.9804e-02,\n",
      "          6.6938e-02,  4.0981e-02,  2.0488e-01, -3.0440e-01, -8.8330e-02,\n",
      "         -2.9658e-01, -3.7525e-01, -4.9426e-02, -8.4484e-02,  2.7946e-01,\n",
      "         -3.2950e-01,  2.1470e-01, -2.9339e-01,  2.2352e-01,  6.2755e-02,\n",
      "         -2.6044e-01, -2.1473e-01,  2.8676e-01, -2.1088e-01],\n",
      "        [ 6.5238e-02, -2.8174e-01, -6.4676e-02,  2.4971e-02,  1.2547e-01,\n",
      "         -3.4255e-02,  1.9269e-01, -2.1458e-01, -4.2537e-01, -2.6914e-01,\n",
      "         -1.7121e-01, -3.0639e-01, -3.1378e-01, -5.2833e-02,  8.5784e-02,\n",
      "         -1.4917e-01,  2.6761e-02, -1.5604e-01, -2.6516e-01, -2.7950e-02,\n",
      "         -3.0480e-01,  2.3751e-02, -5.9445e-02,  1.1581e-01, -2.6776e-01,\n",
      "          5.9015e-02, -3.3400e-02,  2.8762e-01,  2.0726e-01,  1.3330e-01,\n",
      "          3.5755e-01, -2.4209e-01,  5.2148e-02, -3.3399e-03,  6.1947e-03,\n",
      "          1.8656e-01, -3.3749e-01, -3.1464e-01,  2.1321e-01, -1.6056e-01,\n",
      "         -5.7253e-03, -1.5976e-01,  1.8086e-01,  2.5307e-01,  1.4654e-01,\n",
      "          2.0790e-01, -2.1269e-01, -1.1406e-02,  1.2626e-01, -3.5451e-01,\n",
      "         -1.7652e-01,  2.5151e-01,  2.0242e-01, -2.5996e-01,  3.2276e-01,\n",
      "         -2.5571e-01, -1.9490e-01, -1.3016e-01,  2.3904e-01,  1.5855e-01,\n",
      "         -9.4152e-02, -1.3867e-01,  1.2131e-02, -1.6627e-01]])), ('fc.bias', tensor([ 0.1550, -0.1814, -0.0180,  0.0029, -0.0601, -0.0357,  0.1239, -0.0895,\n",
      "         0.0047,  0.1184, -0.0196]))]), 0.005, 64, 0.3)\n",
      "2024-11-30 13:28:12,256 - INFO - Using hidden_dim=64 and dropout=0.3 for best model.\n"
     ]
    }
   ],
   "source": [
    "# Hyperparameter tuning\n",
    "logger.info(\"Starting hyperparameter tuning...\")\n",
    "learning_rates = [0.001, 0.005]\n",
    "hidden_dims = [64, 128]\n",
    "dropouts = [0.3, 0.5]\n",
    "best_val_acc = 0\n",
    "best_model_params = None\n",
    "\n",
    "device = torch.device(\"cuda\" if torch.cuda.is_available() else \"cpu\")\n",
    "vocab_size = 5000\n",
    "output_dim = len(label_encoder.classes_)\n",
    "\n",
    "for lr in learning_rates:\n",
    "    for hidden_dim in hidden_dims:\n",
    "        for dropout in dropouts:\n",
    "            logger.info(f\"Testing model with lr={lr}, hidden_dim={hidden_dim}, dropout={dropout}\")\n",
    "\n",
    "            # Create LSTM model with the tested parameters\n",
    "            model = LSTMClassifier(vocab_size, 128, hidden_dim, output_dim, dropout).to(device)\n",
    "            criterion = nn.CrossEntropyLoss()\n",
    "            optimizer = torch.optim.Adam(model.parameters(), lr=lr)\n",
    "\n",
    "            for epoch in range(5):  # Keeping epochs low for tuning\n",
    "                model.train()\n",
    "                for X_batch, y_batch in train_loader:\n",
    "                    X_batch, y_batch = X_batch.to(device), y_batch.to(device)\n",
    "                    optimizer.zero_grad()\n",
    "                    outputs = model(X_batch)\n",
    "                    loss = criterion(outputs, y_batch)\n",
    "                    loss.backward()\n",
    "                    optimizer.step()\n",
    "\n",
    "                # Evaluate on validation set\n",
    "                model.eval()\n",
    "                val_correct = 0\n",
    "                val_total = 0\n",
    "                with torch.no_grad():\n",
    "                    for X_val, y_val in val_loader:\n",
    "                        X_val, y_val = X_val.to(device), y_val.to(device)\n",
    "                        outputs = model(X_val)\n",
    "                        _, predicted = torch.max(outputs, 1)\n",
    "                        val_correct += (predicted == y_val).sum().item()\n",
    "                        val_total += y_val.size(0)\n",
    "\n",
    "                val_acc = val_correct / val_total\n",
    "                if val_acc > best_val_acc:\n",
    "                    best_val_acc = val_acc\n",
    "                    # Save the best model parameters based on higher validation accuracy\n",
    "                    best_model_params = (model.state_dict(), lr, hidden_dim, dropout)\n",
    "\n",
    "# Display the best result\n",
    "logger.info(f\"Best validation accuracy: {best_val_acc}\")\n",
    "logger.info(f\"Best model params: {best_model_params}\")\n",
    "\n",
    "# Load best model with the best parameters\n",
    "if best_model_params is not None:\n",
    "    # Ensure valid hidden_dim and dropout values\n",
    "    hidden_dim = best_model_params[2] if best_model_params[2] > 0 else 128\n",
    "    dropout = best_model_params[3] if best_model_params[3] > 0 else 0.3\n",
    "    logger.info(f\"Using hidden_dim={hidden_dim} and dropout={dropout} for best model.\")\n",
    "\n",
    "    # Load the model with the best parameters\n",
    "    model = LSTMClassifier(vocab_size, 128, hidden_dim, output_dim, dropout).to(device)\n",
    "    model.load_state_dict(best_model_params[0])  # Load the state_dict of the best model\n",
    "else:\n",
    "    logger.error(\"No valid model found during hyperparameter tuning.\")"
   ]
  },
  {
   "cell_type": "code",
   "execution_count": 20,
   "metadata": {
    "id": "rsHGYLyHrjSa"
   },
   "outputs": [
    {
     "name": "stderr",
     "output_type": "stream",
     "text": [
      "2024-11-30 13:28:12,269 - INFO - Evaluating on test set...\n"
     ]
    }
   ],
   "source": [
    "# Model Evaluation\n",
    "# Evaluating the best model on test data\n",
    "logger.info(\"Evaluating on test set...\")\n",
    "model.eval()\n",
    "y_true = []\n",
    "y_pred = []\n",
    "\n",
    "with torch.no_grad():\n",
    "    for X_test, y_test in test_loader:\n",
    "        X_test, y_test = X_test.to(device), y_test.to(device)\n",
    "        outputs = model(X_test)\n",
    "        _, predicted = torch.max(outputs, 1)\n",
    "        y_true.extend(y_test.cpu().numpy())\n",
    "        y_pred.extend(predicted.cpu().numpy())"
   ]
  },
  {
   "cell_type": "code",
   "execution_count": null,
   "metadata": {
    "colab": {
     "base_uri": "https://localhost:8080/"
    },
    "id": "6-L6bkCYsB2D",
    "outputId": "223db8dd-0b36-4d9b-b32d-e5697d3d000e"
   },
   "outputs": [
    {
     "name": "stderr",
     "output_type": "stream",
     "text": [
      "c:\\Users\\PF3S6\\AppData\\Local\\Programs\\Python\\Python311\\Lib\\site-packages\\sklearn\\metrics\\_classification.py:1509: UndefinedMetricWarning:\n",
      "\n",
      "Precision is ill-defined and being set to 0.0 in labels with no predicted samples. Use `zero_division` parameter to control this behavior.\n",
      "\n",
      "c:\\Users\\PF3S6\\AppData\\Local\\Programs\\Python\\Python311\\Lib\\site-packages\\sklearn\\metrics\\_classification.py:1509: UndefinedMetricWarning:\n",
      "\n",
      "Precision is ill-defined and being set to 0.0 in labels with no predicted samples. Use `zero_division` parameter to control this behavior.\n",
      "\n",
      "c:\\Users\\PF3S6\\AppData\\Local\\Programs\\Python\\Python311\\Lib\\site-packages\\sklearn\\metrics\\_classification.py:1509: UndefinedMetricWarning:\n",
      "\n",
      "Precision is ill-defined and being set to 0.0 in labels with no predicted samples. Use `zero_division` parameter to control this behavior.\n",
      "\n",
      "2024-11-30 13:28:12,325 - INFO - \n",
      "Classification Report:\n",
      "                    precision    recall  f1-score   support\n",
      "\n",
      "  Bahasa Nusantara       0.98      1.00      0.99       120\n",
      " Dongeng Nusantara       0.00      0.00      0.00         2\n",
      " Kuliner Nusantara       0.21      0.60      0.32         5\n",
      "   Musik Nusantara       1.00      0.29      0.44         7\n",
      " Pakaian Nusantara       1.00      0.33      0.50         3\n",
      "        Rumah Adat       0.00      0.00      0.00         2\n",
      " Sejarah Nusantara       0.45      0.71      0.56         7\n",
      "Seni dan Kerajinan       0.00      0.00      0.00         1\n",
      "  Tarian Nusantara       0.00      0.00      0.00         1\n",
      " Tradisi Nusantara       0.60      0.38      0.46         8\n",
      "  Wisata Nusantara       0.33      0.33      0.33         9\n",
      "\n",
      "          accuracy                           0.83       165\n",
      "         macro avg       0.42      0.33      0.33       165\n",
      "      weighted avg       0.85      0.83      0.82       165\n",
      "\n"
     ]
    }
   ],
   "source": [
    "logger.info(\"\\nClassification Report:\\n\" + classification_report(y_true, y_pred,\n",
    "                                                              target_names=label_encoder.classes_[:11],\n",
    "                                                              labels=label_encoder.transform(label_encoder.classes_[:11])))"
   ]
  },
  {
   "cell_type": "code",
   "execution_count": 22,
   "metadata": {
    "colab": {
     "base_uri": "https://localhost:8080/",
     "height": 767
    },
    "id": "lOpp-IZHtjDo",
    "outputId": "89eb80b0-bd95-4188-8610-90de876c31fe"
   },
   "outputs": [
    {
     "name": "stderr",
     "output_type": "stream",
     "text": [
      "2024-11-30 13:28:12,340 - INFO - Generating confusion matrix...\n"
     ]
    },
    {
     "data": {
      "image/png": "[encoded data removed]",
      "text/plain": [
       "<Figure size 1000x700 with 2 Axes>"
      ]
     },
     "metadata": {},
     "output_type": "display_data"
    }
   ],
   "source": [
    "# Confusion Matrix\n",
    "logger.info(\"Generating confusion matrix...\")\n",
    "conf_matrix = confusion_matrix(y_true, y_pred)\n",
    "plt.figure(figsize=(10, 7))\n",
    "sns.heatmap(conf_matrix, annot=True, fmt=\"d\", cmap=\"Blues\", xticklabels=label_encoder.classes_, yticklabels=label_encoder.classes_)\n",
    "plt.title(\"Confusion Matrix\")\n",
    "plt.xlabel(\"Predicted\")\n",
    "plt.ylabel(\"Actual\")\n",
    "plt.show()"
   ]
  },
  {
   "cell_type": "markdown",
   "metadata": {
    "id": "dgzDuUOpw2ng"
   },
   "source": [
    "# ROC Curve"
   ]
  },
  {
   "cell_type": "code",
   "execution_count": 23,
   "metadata": {
    "colab": {
     "base_uri": "https://localhost:8080/",
     "height": 564
    },
    "id": "IAyw3IiJv-vl",
    "outputId": "62619c60-0a43-41d5-e90b-fd5830d61cdd"
   },
   "outputs": [
    {
     "name": "stderr",
     "output_type": "stream",
     "text": [
      "2024-11-30 13:28:12,725 - INFO - Generating ROC curve...\n"
     ]
    },
    {
     "data": {
      "image/png": "[encoded data removed]",
      "text/plain": [
       "<Figure size 800x600 with 1 Axes>"
      ]
     },
     "metadata": {},
     "output_type": "display_data"
    }
   ],
   "source": [
    "logger.info(\"Generating ROC curve...\")\n",
    "\n",
    "# Ensure y_pred contains probabilities for the positive class (e.g., the output of a model's sigmoid or softmax)\n",
    "fpr, tpr, thresholds = roc_curve(y_true, np.array(y_pred), pos_label=1)  # Make sure y_pred is probabilities\n",
    "roc_auc = auc(fpr, tpr)\n",
    "\n",
    "# Plot ROC Curve\n",
    "plt.figure(figsize=(8, 6))\n",
    "plt.plot(fpr, tpr, label=f\"ROC curve (area = {roc_auc:.2f})\", color=\"blue\", lw=2)\n",
    "plt.plot([0, 1], [0, 1], color=\"grey\", linestyle=\"--\", lw=1.5)  # Diagonal reference line\n",
    "plt.xlabel(\"False Positive Rate\")\n",
    "plt.ylabel(\"True Positive Rate\")\n",
    "plt.title(\"Receiver Operating Characteristic (ROC) Curve\")\n",
    "plt.legend(loc=\"lower right\")\n",
    "plt.grid(alpha=0.3)\n",
    "plt.show()"
   ]
  },
  {
   "cell_type": "code",
   "execution_count": 24,
   "metadata": {
    "id": "CJo2sC67w_2-"
   },
   "outputs": [
    {
     "name": "stderr",
     "output_type": "stream",
     "text": [
      "2024-11-30 13:28:12,857 - INFO - Saving the best model...\n",
      "2024-11-30 13:28:12,866 - INFO - Model saved as lstm_model.pt.\n"
     ]
    }
   ],
   "source": [
    "# Save the model\n",
    "logger.info(\"Saving the best model...\")\n",
    "torch.save(model.state_dict(), \"lstm_model.pt\")\n",
    "logger.info(\"Model saved as lstm_model.pt.\")"
   ]
  },
  {
   "cell_type": "markdown",
   "metadata": {
    "id": "J_74B6skw4l8"
   },
   "source": [
    "# TF-IDF Vectorization"
   ]
  },
  {
   "cell_type": "code",
   "execution_count": 25,
   "metadata": {
    "id": "LseF0SmYw6qz"
   },
   "outputs": [
    {
     "name": "stderr",
     "output_type": "stream",
     "text": [
      "2024-11-30 13:28:12,874 - INFO - Train dataset size: 766\n",
      "2024-11-30 13:28:12,882 - INFO - Validation dataset size: 164\n",
      "2024-11-30 13:28:12,882 - INFO - Test dataset size: 165\n"
     ]
    }
   ],
   "source": [
    "logger.info(f\"Train dataset size: {len(train_dataset)}\")\n",
    "logger.info(f\"Validation dataset size: {len(val_dataset)}\")\n",
    "logger.info(f\"Test dataset size: {len(test_dataset)}\")"
   ]
  },
  {
   "cell_type": "code",
   "execution_count": 26,
   "metadata": {
    "id": "arxShKrqxEtt"
   },
   "outputs": [
    {
     "name": "stderr",
     "output_type": "stream",
     "text": [
      "2024-11-30 13:28:12,889 - INFO - First batch X: torch.Size([32, 100]), y: torch.Size([32])\n"
     ]
    }
   ],
   "source": [
    "for batch in train_loader:\n",
    "    X_batch, y_batch = batch\n",
    "    logger.info(f\"First batch X: {X_batch.shape}, y: {y_batch.shape}\")\n",
    "    break"
   ]
  },
  {
   "cell_type": "code",
   "execution_count": 27,
   "metadata": {
    "id": "daMUldEBxHeb"
   },
   "outputs": [],
   "source": [
    "# Combine title and description into a single text column\n",
    "df['text'] = df['title'] + \" \" + df['description']\n",
    "\n",
    "# Extract 'text' as X (features) and 'category' as y (labels)\n",
    "X = df['text'].values\n",
    "y = df['category'].values\n",
    "\n",
    "# If the categories are still in text, convert them to numerical labels\n",
    "from sklearn.preprocessing import LabelEncoder\n",
    "label_encoder = LabelEncoder()\n",
    "y = label_encoder.fit_transform(y)  # Convert categories to numbers\n",
    "\n",
    "# Split dataset into train, validation, and test sets\n",
    "X_train, X_temp, y_train, y_temp = train_test_split(X, y, test_size=0.3, random_state=42)  # 70% for training\n",
    "X_val, X_test, y_val, y_test = train_test_split(X_temp, y_temp, test_size=0.5, random_state=42)  # Split remaining 50% into validation and test\n",
    "\n",
    "# Initialize TF-IDF Vectorizer\n",
    "tfidf = TfidfVectorizer(max_features=5000)\n",
    "\n",
    "# Fit and transform on X_train\n",
    "X_train_tfidf = tfidf.fit_transform(X_train)\n",
    "\n",
    "# Transform on X_val and X_test using the same features as X_train\n",
    "X_val_tfidf = tfidf.transform(X_val)\n",
    "X_test_tfidf = tfidf.transform(X_test)\n",
    "\n",
    "# Convert the results to tensors\n",
    "X_train_tfidf = torch.tensor(X_train_tfidf.toarray(), dtype=torch.float32)\n",
    "X_val_tfidf = torch.tensor(X_val_tfidf.toarray(), dtype=torch.float32)\n",
    "X_test_tfidf = torch.tensor(X_test_tfidf.toarray(), dtype=torch.float32)\n",
    "\n",
    "# Create TensorDataset for train, validation, and test sets\n",
    "train_dataset = TensorDataset(X_train_tfidf, torch.tensor(y_train, dtype=torch.long))\n",
    "val_dataset = TensorDataset(X_val_tfidf, torch.tensor(y_val, dtype=torch.long))\n",
    "test_dataset = TensorDataset(X_test_tfidf, torch.tensor(y_test, dtype=torch.long))\n",
    "\n",
    "# Create DataLoader\n",
    "train_loader = DataLoader(train_dataset, batch_size=32, shuffle=True)\n",
    "val_loader = DataLoader(val_dataset, batch_size=32, shuffle=False)\n",
    "test_loader = DataLoader(test_dataset, batch_size=32, shuffle=False)"
   ]
  },
  {
   "cell_type": "code",
   "execution_count": 28,
   "metadata": {
    "colab": {
     "base_uri": "https://localhost:8080/"
    },
    "id": "yzpUOd5w5YsZ",
    "outputId": "94127828-678c-4fa1-d570-ae8f8626b73b"
   },
   "outputs": [
    {
     "name": "stderr",
     "output_type": "stream",
     "text": [
      "2024-11-30 13:28:12,958 - INFO - Vectorizing text using TF-IDF...\n"
     ]
    },
    {
     "name": "stderr",
     "output_type": "stream",
     "text": [
      "2024-11-30 13:28:13,008 - INFO - TF-IDF Vectorizer saved.\n",
      "2024-11-30 13:28:13,112 - INFO - Generating classification report...\n",
      "c:\\Users\\PF3S6\\AppData\\Local\\Programs\\Python\\Python311\\Lib\\site-packages\\sklearn\\metrics\\_classification.py:1509: UndefinedMetricWarning:\n",
      "\n",
      "Precision is ill-defined and being set to 0.0 in labels with no predicted samples. Use `zero_division` parameter to control this behavior.\n",
      "\n",
      "c:\\Users\\PF3S6\\AppData\\Local\\Programs\\Python\\Python311\\Lib\\site-packages\\sklearn\\metrics\\_classification.py:1509: UndefinedMetricWarning:\n",
      "\n",
      "Precision is ill-defined and being set to 0.0 in labels with no predicted samples. Use `zero_division` parameter to control this behavior.\n",
      "\n",
      "c:\\Users\\PF3S6\\AppData\\Local\\Programs\\Python\\Python311\\Lib\\site-packages\\sklearn\\metrics\\_classification.py:1509: UndefinedMetricWarning:\n",
      "\n",
      "Precision is ill-defined and being set to 0.0 in labels with no predicted samples. Use `zero_division` parameter to control this behavior.\n",
      "\n",
      "2024-11-30 13:28:13,129 - INFO - \n",
      "Classification Report:\n"
     ]
    },
    {
     "name": "stdout",
     "output_type": "stream",
     "text": [
      "                    precision    recall  f1-score   support\n",
      "\n",
      "  Bahasa Nusantara       0.82      1.00      0.90       165\n",
      " Dongeng Nusantara       0.00      0.00      0.00         1\n",
      " Kuliner Nusantara       1.00      0.38      0.55         8\n",
      "   Musik Nusantara       0.67      0.40      0.50         5\n",
      " Pakaian Nusantara       1.00      0.75      0.86         4\n",
      "        Rumah Adat       1.00      0.33      0.50         3\n",
      " Sejarah Nusantara       1.00      0.50      0.67        12\n",
      "Seni dan Kerajinan       0.00      0.00      0.00         3\n",
      "  Tarian Nusantara       0.00      0.00      0.00         3\n",
      " Tradisi Nusantara       0.50      0.12      0.20         8\n",
      "  Wisata Nusantara       0.00      0.00      0.00         7\n",
      "\n",
      "          accuracy                           0.83       219\n",
      "         macro avg       0.54      0.32      0.38       219\n",
      "      weighted avg       0.78      0.83      0.78       219\n",
      "\n"
     ]
    }
   ],
   "source": [
    "# Logger Setup\n",
    "logger = logging.getLogger()\n",
    "logging.basicConfig(level=logging.INFO)\n",
    "\n",
    "# Combine 'title' and 'description' columns into one 'text' column\n",
    "df['text'] = df['title'] + \" \" + df['description']\n",
    "\n",
    "# Take 'text' column as X (features) and 'category' column as y (labels)\n",
    "X = df['text'].values\n",
    "y = df['category'].values\n",
    "\n",
    "# Split the dataset into train and test with stratification based on category\n",
    "X_train, X_test, y_train, y_test = train_test_split(X, y, test_size=0.2, random_state=42, stratify=y)\n",
    "\n",
    "# Initialize LabelEncoder to convert category labels into numeric labels\n",
    "label_encoder = LabelEncoder()\n",
    "y_train_encoded = label_encoder.fit_transform(y_train)\n",
    "y_test_encoded = label_encoder.transform(y_test)\n",
    "\n",
    "# Get the original categories from the encoded labels\n",
    "categories = label_encoder.classes_\n",
    "\n",
    "# TF-IDF Vectorization: Convert text into numerical representation\n",
    "logger.info(\"Vectorizing text using TF-IDF...\")\n",
    "tfidf = TfidfVectorizer(max_features=5000)  # Limit the number of features to 5000\n",
    "X_train_tfidf = tfidf.fit_transform(X_train)  # Fit on train data and transform\n",
    "X_test_tfidf = tfidf.transform(X_test)        # Only transform the test data\n",
    "\n",
    "# Save the TF-IDF Vectorizer to a file\n",
    "joblib.dump(tfidf, \"tfidf_vectorizer.pkl\")\n",
    "logger.info(\"TF-IDF Vectorizer saved.\")\n",
    "\n",
    "# Build and train Logistic Regression model\n",
    "model = LogisticRegression(max_iter=1000, multi_class='multinomial', solver='lbfgs')\n",
    "model.fit(X_train_tfidf, y_train_encoded)\n",
    "\n",
    "# Make predictions on the test data\n",
    "y_pred = model.predict(X_test_tfidf)\n",
    "\n",
    "# Display classification report\n",
    "logger.info(\"Generating classification report...\")\n",
    "report = classification_report(y_test_encoded, y_pred, target_names=categories)\n",
    "logger.info(\"\\nClassification Report:\")\n",
    "print(report)"
   ]
  },
  {
   "cell_type": "code",
   "execution_count": 29,
   "metadata": {
    "id": "3ndOqlEjxKXg"
   },
   "outputs": [
    {
     "name": "stderr",
     "output_type": "stream",
     "text": [
      "2024-11-30 13:28:13,144 - INFO - Vectorizing text using TF-IDF...\n"
     ]
    }
   ],
   "source": [
    "logger.info(\"Vectorizing text using TF-IDF...\")\n",
    "tfidf = TfidfVectorizer(max_features=5000)\n",
    "X_train_tfidf = tfidf.fit_transform(X_train)\n",
    "X_val_tfidf = tfidf.transform(X_val)\n",
    "X_test_tfidf = tfidf.transform(X_test)"
   ]
  },
  {
   "cell_type": "code",
   "execution_count": 30,
   "metadata": {
    "id": "MkSydYmlxMk3"
   },
   "outputs": [
    {
     "name": "stderr",
     "output_type": "stream",
     "text": [
      "2024-11-30 13:28:13,225 - INFO - TF-IDF Vectorizer saved.\n"
     ]
    }
   ],
   "source": [
    "# Save TF-IDF vectorizer\n",
    "joblib.dump(tfidf, \"tfidf_vectorizer.pkl\")\n",
    "logger.info(\"TF-IDF Vectorizer saved.\")"
   ]
  },
  {
   "cell_type": "markdown",
   "metadata": {
    "id": "1TIDm-R5xO4u"
   },
   "source": [
    "# Logistic Regression Model with Hyperparameter Tuning"
   ]
  },
  {
   "cell_type": "code",
   "execution_count": 31,
   "metadata": {
    "colab": {
     "base_uri": "https://localhost:8080/"
    },
    "id": "w_Qb1Z9RxPYb",
    "outputId": "2d3f1f55-e083-4301-ce69-581b16fde181"
   },
   "outputs": [
    {
     "name": "stderr",
     "output_type": "stream",
     "text": [
      "2024-11-30 13:28:13,242 - INFO - Performing hyperparameter tuning for Logistic Regression...\n",
      "c:\\Users\\PF3S6\\AppData\\Local\\Programs\\Python\\Python311\\Lib\\site-packages\\sklearn\\model_selection\\_validation.py:547: FitFailedWarning:\n",
      "\n",
      "\n",
      "45 fits failed out of a total of 90.\n",
      "The score on these train-test partitions for these parameters will be set to nan.\n",
      "If these failures are not expected, you can try to debug them by setting error_score='raise'.\n",
      "\n",
      "Below are more details about the failures:\n",
      "--------------------------------------------------------------------------------\n",
      "45 fits failed with the following error:\n",
      "Traceback (most recent call last):\n",
      "  File \"c:\\Users\\PF3S6\\AppData\\Local\\Programs\\Python\\Python311\\Lib\\site-packages\\sklearn\\model_selection\\_validation.py\", line 895, in _fit_and_score\n",
      "    estimator.fit(X_train, y_train, **fit_params)\n",
      "  File \"c:\\Users\\PF3S6\\AppData\\Local\\Programs\\Python\\Python311\\Lib\\site-packages\\sklearn\\base.py\", line 1474, in wrapper\n",
      "    return fit_method(estimator, *args, **kwargs)\n",
      "           ^^^^^^^^^^^^^^^^^^^^^^^^^^^^^^^^^^^^^^\n",
      "  File \"c:\\Users\\PF3S6\\AppData\\Local\\Programs\\Python\\Python311\\Lib\\site-packages\\sklearn\\linear_model\\_logistic.py\", line 1212, in fit\n",
      "    multi_class = _check_multi_class(self.multi_class, solver, len(self.classes_))\n",
      "                  ^^^^^^^^^^^^^^^^^^^^^^^^^^^^^^^^^^^^^^^^^^^^^^^^^^^^^^^^^^^^^^^^\n",
      "  File \"c:\\Users\\PF3S6\\AppData\\Local\\Programs\\Python\\Python311\\Lib\\site-packages\\sklearn\\linear_model\\_logistic.py\", line 99, in _check_multi_class\n",
      "    raise ValueError(\"Solver %s does not support a multinomial backend.\" % solver)\n",
      "ValueError: Solver liblinear does not support a multinomial backend.\n",
      "\n",
      "\n",
      "c:\\Users\\PF3S6\\AppData\\Local\\Programs\\Python\\Python311\\Lib\\site-packages\\sklearn\\model_selection\\_search.py:1051: UserWarning:\n",
      "\n",
      "One or more of the test scores are non-finite: [0.75570779        nan 0.75570779        nan 0.75570779        nan\n",
      " 0.80822078        nan 0.80822078        nan 0.80822078        nan\n",
      " 0.88242857        nan 0.88242857        nan 0.88242857        nan]\n",
      "\n",
      "2024-11-30 13:28:18,262 - INFO - Best model parameters: {'C': 10, 'max_iter': 100, 'solver': 'lbfgs'}\n"
     ]
    }
   ],
   "source": [
    "# Performing hyperparameter tuning for Logistic Regression...\n",
    "logger.info(\"Performing hyperparameter tuning for Logistic Regression...\")\n",
    "param_grid = {\n",
    "    'C': [0.1, 1, 10],\n",
    "    'solver': ['lbfgs', 'liblinear'],\n",
    "    'max_iter': [100, 200, 500]\n",
    "}\n",
    "\n",
    "grid_search = GridSearchCV(\n",
    "    LogisticRegression(multi_class='multinomial'),\n",
    "    param_grid,\n",
    "    cv=5,\n",
    "    scoring='accuracy'\n",
    ")\n",
    "grid_search.fit(X_train_tfidf, y_train)\n",
    "\n",
    "best_model = grid_search.best_estimator_\n",
    "logger.info(f\"Best model parameters: {grid_search.best_params_}\")"
   ]
  },
  {
   "cell_type": "code",
   "execution_count": 32,
   "metadata": {
    "colab": {
     "base_uri": "https://localhost:8080/"
    },
    "id": "7d3WtDdxxgPq",
    "outputId": "469f6f8e-4462-495a-eec3-31c3e577e9f8"
   },
   "outputs": [
    {
     "name": "stderr",
     "output_type": "stream",
     "text": [
      "2024-11-30 13:28:18,271 - INFO - Evaluating on test set...\n",
      "c:\\Users\\PF3S6\\AppData\\Local\\Programs\\Python\\Python311\\Lib\\site-packages\\sklearn\\metrics\\_classification.py:1509: UndefinedMetricWarning:\n",
      "\n",
      "Precision is ill-defined and being set to 0.0 in labels with no predicted samples. Use `zero_division` parameter to control this behavior.\n",
      "\n",
      "c:\\Users\\PF3S6\\AppData\\Local\\Programs\\Python\\Python311\\Lib\\site-packages\\sklearn\\metrics\\_classification.py:1509: UndefinedMetricWarning:\n",
      "\n",
      "Precision is ill-defined and being set to 0.0 in labels with no predicted samples. Use `zero_division` parameter to control this behavior.\n",
      "\n",
      "c:\\Users\\PF3S6\\AppData\\Local\\Programs\\Python\\Python311\\Lib\\site-packages\\sklearn\\metrics\\_classification.py:1509: UndefinedMetricWarning:\n",
      "\n",
      "Precision is ill-defined and being set to 0.0 in labels with no predicted samples. Use `zero_division` parameter to control this behavior.\n",
      "\n",
      "2024-11-30 13:28:18,281 - INFO - \n",
      "Test Set Classification Report:\n",
      "                    precision    recall  f1-score   support\n",
      "\n",
      "  Bahasa Nusantara       0.96      0.99      0.98       165\n",
      " Dongeng Nusantara       0.00      0.00      0.00         1\n",
      " Kuliner Nusantara       0.89      1.00      0.94         8\n",
      "   Musik Nusantara       0.83      1.00      0.91         5\n",
      " Pakaian Nusantara       0.75      0.75      0.75         4\n",
      "        Rumah Adat       1.00      0.67      0.80         3\n",
      " Sejarah Nusantara       0.86      1.00      0.92        12\n",
      "Seni dan Kerajinan       1.00      0.67      0.80         3\n",
      "  Tarian Nusantara       1.00      0.67      0.80         3\n",
      " Tradisi Nusantara       1.00      0.62      0.77         8\n",
      "  Wisata Nusantara       0.75      0.43      0.55         7\n",
      "\n",
      "          accuracy                           0.94       219\n",
      "         macro avg       0.82      0.71      0.75       219\n",
      "      weighted avg       0.94      0.94      0.93       219\n",
      "\n"
     ]
    }
   ],
   "source": [
    "# Final Evaluation on Test Set\n",
    "logger.info(\"Evaluating on test set...\")\n",
    "y_test_pred = best_model.predict(X_test_tfidf)\n",
    "test_report = classification_report(y_test, y_test_pred)\n",
    "logger.info(\"\\nTest Set Classification Report:\\n\" + test_report)"
   ]
  },
  {
   "cell_type": "code",
   "execution_count": 33,
   "metadata": {
    "id": "UH9NXicGxjGO"
   },
   "outputs": [
    {
     "name": "stderr",
     "output_type": "stream",
     "text": [
      "2024-11-30 13:28:18,297 - INFO - Trained model saved as logistic_regression_model.pkl.\n"
     ]
    }
   ],
   "source": [
    "# Save the trained model\n",
    "joblib.dump(best_model, \"logistic_regression_model.pkl\")\n",
    "logger.info(\"Trained model saved as logistic_regression_model.pkl.\")"
   ]
  },
  {
   "cell_type": "markdown",
   "metadata": {
    "id": "RrT4wjXKxlwb"
   },
   "source": [
    "# Split into training and testing sets\n"
   ]
  },
  {
   "cell_type": "code",
   "execution_count": 34,
   "metadata": {
    "colab": {
     "base_uri": "https://localhost:8080/"
    },
    "id": "3tE01JOrxmaq",
    "outputId": "6398a82a-cda7-41ad-d465-df4f5497a7d0"
   },
   "outputs": [
    {
     "name": "stdout",
     "output_type": "stream",
     "text": [
      "Splitting into training and testing sets...\n"
     ]
    }
   ],
   "source": [
    "print(\"Splitting into training and testing sets...\")\n",
    "X_train, X_test, y_train, y_test = train_test_split(\n",
    "    X, y, test_size=0.2, random_state=42, stratify=y\n",
    ")"
   ]
  },
  {
   "cell_type": "markdown",
   "metadata": {
    "id": "CiXoU1jVxroG"
   },
   "source": [
    "# Vectorize text data using TF-IDF\n"
   ]
  },
  {
   "cell_type": "code",
   "execution_count": 35,
   "metadata": {
    "colab": {
     "base_uri": "https://localhost:8080/"
    },
    "id": "e34FoyTPxspD",
    "outputId": "de258192-22ba-445f-b454-402dc4af5ca0"
   },
   "outputs": [
    {
     "name": "stdout",
     "output_type": "stream",
     "text": [
      "Vectorizing text using TF-IDF...\n"
     ]
    }
   ],
   "source": [
    "print(\"Vectorizing text using TF-IDF...\")\n",
    "tfidf = TfidfVectorizer(max_features=5000)\n",
    "X_train_tfidf = tfidf.fit_transform(X_train)\n",
    "X_test_tfidf = tfidf.transform(X_test)"
   ]
  },
  {
   "cell_type": "markdown",
   "metadata": {
    "id": "I2V0xCl9xwIK"
   },
   "source": [
    "# Train a Logistic Regression model\n"
   ]
  },
  {
   "cell_type": "code",
   "execution_count": 36,
   "metadata": {
    "colab": {
     "base_uri": "https://localhost:8080/",
     "height": 168
    },
    "id": "XZ8hWg8Jxw5C",
    "outputId": "634a790a-bf64-42d8-96e7-2c3859c6aede"
   },
   "outputs": [
    {
     "name": "stdout",
     "output_type": "stream",
     "text": [
      "Training Logistic Regression model...\n"
     ]
    },
    {
     "data": {
      "text/html": [
       "<style>#sk-container-id-1 {\n",
       "  /* Definition of color scheme common for light and dark mode */\n",
       "  --sklearn-color-text: black;\n",
       "  --sklearn-color-line: gray;\n",
       "  /* Definition of color scheme for unfitted estimators */\n",
       "  --sklearn-color-unfitted-level-0: #fff5e6;\n",
       "  --sklearn-color-unfitted-level-1: #f6e4d2;\n",
       "  --sklearn-color-unfitted-level-2: #ffe0b3;\n",
       "  --sklearn-color-unfitted-level-3: chocolate;\n",
       "  /* Definition of color scheme for fitted estimators */\n",
       "  --sklearn-color-fitted-level-0: #f0f8ff;\n",
       "  --sklearn-color-fitted-level-1: #d4ebff;\n",
       "  --sklearn-color-fitted-level-2: #b3dbfd;\n",
       "  --sklearn-color-fitted-level-3: cornflowerblue;\n",
       "\n",
       "  /* Specific color for light theme */\n",
       "  --sklearn-color-text-on-default-background: var(--sg-text-color, var(--theme-code-foreground, var(--jp-content-font-color1, black)));\n",
       "  --sklearn-color-background: var(--sg-background-color, var(--theme-background, var(--jp-layout-color0, white)));\n",
       "  --sklearn-color-border-box: var(--sg-text-color, var(--theme-code-foreground, var(--jp-content-font-color1, black)));\n",
       "  --sklearn-color-icon: #696969;\n",
       "\n",
       "  @media (prefers-color-scheme: dark) {\n",
       "    /* Redefinition of color scheme for dark theme */\n",
       "    --sklearn-color-text-on-default-background: var(--sg-text-color, var(--theme-code-foreground, var(--jp-content-font-color1, white)));\n",
       "    --sklearn-color-background: var(--sg-background-color, var(--theme-background, var(--jp-layout-color0, #111)));\n",
       "    --sklearn-color-border-box: var(--sg-text-color, var(--theme-code-foreground, var(--jp-content-font-color1, white)));\n",
       "    --sklearn-color-icon: #878787;\n",
       "  }\n",
       "}\n",
       "\n",
       "#sk-container-id-1 {\n",
       "  color: var(--sklearn-color-text);\n",
       "}\n",
       "\n",
       "#sk-container-id-1 pre {\n",
       "  padding: 0;\n",
       "}\n",
       "\n",
       "#sk-container-id-1 input.sk-hidden--visually {\n",
       "  border: 0;\n",
       "  clip: rect(1px 1px 1px 1px);\n",
       "  clip: rect(1px, 1px, 1px, 1px);\n",
       "  height: 1px;\n",
       "  margin: -1px;\n",
       "  overflow: hidden;\n",
       "  padding: 0;\n",
       "  position: absolute;\n",
       "  width: 1px;\n",
       "}\n",
       "\n",
       "#sk-container-id-1 div.sk-dashed-wrapped {\n",
       "  border: 1px dashed var(--sklearn-color-line);\n",
       "  margin: 0 0.4em 0.5em 0.4em;\n",
       "  box-sizing: border-box;\n",
       "  padding-bottom: 0.4em;\n",
       "  background-color: var(--sklearn-color-background);\n",
       "}\n",
       "\n",
       "#sk-container-id-1 div.sk-container {\n",
       "  /* jupyter's `normalize.less` sets `[hidden] { display: none; }`\n",
       "     but bootstrap.min.css set `[hidden] { display: none !important; }`\n",
       "     so we also need the `!important` here to be able to override the\n",
       "     default hidden behavior on the sphinx rendered scikit-learn.org.\n",
       "     See: https://github.com/scikit-learn/scikit-learn/issues/21755 */\n",
       "  display: inline-block !important;\n",
       "  position: relative;\n",
       "}\n",
       "\n",
       "#sk-container-id-1 div.sk-text-repr-fallback {\n",
       "  display: none;\n",
       "}\n",
       "\n",
       "div.sk-parallel-item,\n",
       "div.sk-serial,\n",
       "div.sk-item {\n",
       "  /* draw centered vertical line to link estimators */\n",
       "  background-image: linear-gradient(var(--sklearn-color-text-on-default-background), var(--sklearn-color-text-on-default-background));\n",
       "  background-size: 2px 100%;\n",
       "  background-repeat: no-repeat;\n",
       "  background-position: center center;\n",
       "}\n",
       "\n",
       "/* Parallel-specific style estimator block */\n",
       "\n",
       "#sk-container-id-1 div.sk-parallel-item::after {\n",
       "  content: \"\";\n",
       "  width: 100%;\n",
       "  border-bottom: 2px solid var(--sklearn-color-text-on-default-background);\n",
       "  flex-grow: 1;\n",
       "}\n",
       "\n",
       "#sk-container-id-1 div.sk-parallel {\n",
       "  display: flex;\n",
       "  align-items: stretch;\n",
       "  justify-content: center;\n",
       "  background-color: var(--sklearn-color-background);\n",
       "  position: relative;\n",
       "}\n",
       "\n",
       "#sk-container-id-1 div.sk-parallel-item {\n",
       "  display: flex;\n",
       "  flex-direction: column;\n",
       "}\n",
       "\n",
       "#sk-container-id-1 div.sk-parallel-item:first-child::after {\n",
       "  align-self: flex-end;\n",
       "  width: 50%;\n",
       "}\n",
       "\n",
       "#sk-container-id-1 div.sk-parallel-item:last-child::after {\n",
       "  align-self: flex-start;\n",
       "  width: 50%;\n",
       "}\n",
       "\n",
       "#sk-container-id-1 div.sk-parallel-item:only-child::after {\n",
       "  width: 0;\n",
       "}\n",
       "\n",
       "/* Serial-specific style estimator block */\n",
       "\n",
       "#sk-container-id-1 div.sk-serial {\n",
       "  display: flex;\n",
       "  flex-direction: column;\n",
       "  align-items: center;\n",
       "  background-color: var(--sklearn-color-background);\n",
       "  padding-right: 1em;\n",
       "  padding-left: 1em;\n",
       "}\n",
       "\n",
       "\n",
       "/* Toggleable style: style used for estimator/Pipeline/ColumnTransformer box that is\n",
       "clickable and can be expanded/collapsed.\n",
       "- Pipeline and ColumnTransformer use this feature and define the default style\n",
       "- Estimators will overwrite some part of the style using the `sk-estimator` class\n",
       "*/\n",
       "\n",
       "/* Pipeline and ColumnTransformer style (default) */\n",
       "\n",
       "#sk-container-id-1 div.sk-toggleable {\n",
       "  /* Default theme specific background. It is overwritten whether we have a\n",
       "  specific estimator or a Pipeline/ColumnTransformer */\n",
       "  background-color: var(--sklearn-color-background);\n",
       "}\n",
       "\n",
       "/* Toggleable label */\n",
       "#sk-container-id-1 label.sk-toggleable__label {\n",
       "  cursor: pointer;\n",
       "  display: block;\n",
       "  width: 100%;\n",
       "  margin-bottom: 0;\n",
       "  padding: 0.5em;\n",
       "  box-sizing: border-box;\n",
       "  text-align: center;\n",
       "}\n",
       "\n",
       "#sk-container-id-1 label.sk-toggleable__label-arrow:before {\n",
       "  /* Arrow on the left of the label */\n",
       "  content: \"▸\";\n",
       "  float: left;\n",
       "  margin-right: 0.25em;\n",
       "  color: var(--sklearn-color-icon);\n",
       "}\n",
       "\n",
       "#sk-container-id-1 label.sk-toggleable__label-arrow:hover:before {\n",
       "  color: var(--sklearn-color-text);\n",
       "}\n",
       "\n",
       "/* Toggleable content - dropdown */\n",
       "\n",
       "#sk-container-id-1 div.sk-toggleable__content {\n",
       "  max-height: 0;\n",
       "  max-width: 0;\n",
       "  overflow: hidden;\n",
       "  text-align: left;\n",
       "  /* unfitted */\n",
       "  background-color: var(--sklearn-color-unfitted-level-0);\n",
       "}\n",
       "\n",
       "#sk-container-id-1 div.sk-toggleable__content.fitted {\n",
       "  /* fitted */\n",
       "  background-color: var(--sklearn-color-fitted-level-0);\n",
       "}\n",
       "\n",
       "#sk-container-id-1 div.sk-toggleable__content pre {\n",
       "  margin: 0.2em;\n",
       "  border-radius: 0.25em;\n",
       "  color: var(--sklearn-color-text);\n",
       "  /* unfitted */\n",
       "  background-color: var(--sklearn-color-unfitted-level-0);\n",
       "}\n",
       "\n",
       "#sk-container-id-1 div.sk-toggleable__content.fitted pre {\n",
       "  /* unfitted */\n",
       "  background-color: var(--sklearn-color-fitted-level-0);\n",
       "}\n",
       "\n",
       "#sk-container-id-1 input.sk-toggleable__control:checked~div.sk-toggleable__content {\n",
       "  /* Expand drop-down */\n",
       "  max-height: 200px;\n",
       "  max-width: 100%;\n",
       "  overflow: auto;\n",
       "}\n",
       "\n",
       "#sk-container-id-1 input.sk-toggleable__control:checked~label.sk-toggleable__label-arrow:before {\n",
       "  content: \"▾\";\n",
       "}\n",
       "\n",
       "/* Pipeline/ColumnTransformer-specific style */\n",
       "\n",
       "#sk-container-id-1 div.sk-label input.sk-toggleable__control:checked~label.sk-toggleable__label {\n",
       "  color: var(--sklearn-color-text);\n",
       "  background-color: var(--sklearn-color-unfitted-level-2);\n",
       "}\n",
       "\n",
       "#sk-container-id-1 div.sk-label.fitted input.sk-toggleable__control:checked~label.sk-toggleable__label {\n",
       "  background-color: var(--sklearn-color-fitted-level-2);\n",
       "}\n",
       "\n",
       "/* Estimator-specific style */\n",
       "\n",
       "/* Colorize estimator box */\n",
       "#sk-container-id-1 div.sk-estimator input.sk-toggleable__control:checked~label.sk-toggleable__label {\n",
       "  /* unfitted */\n",
       "  background-color: var(--sklearn-color-unfitted-level-2);\n",
       "}\n",
       "\n",
       "#sk-container-id-1 div.sk-estimator.fitted input.sk-toggleable__control:checked~label.sk-toggleable__label {\n",
       "  /* fitted */\n",
       "  background-color: var(--sklearn-color-fitted-level-2);\n",
       "}\n",
       "\n",
       "#sk-container-id-1 div.sk-label label.sk-toggleable__label,\n",
       "#sk-container-id-1 div.sk-label label {\n",
       "  /* The background is the default theme color */\n",
       "  color: var(--sklearn-color-text-on-default-background);\n",
       "}\n",
       "\n",
       "/* On hover, darken the color of the background */\n",
       "#sk-container-id-1 div.sk-label:hover label.sk-toggleable__label {\n",
       "  color: var(--sklearn-color-text);\n",
       "  background-color: var(--sklearn-color-unfitted-level-2);\n",
       "}\n",
       "\n",
       "/* Label box, darken color on hover, fitted */\n",
       "#sk-container-id-1 div.sk-label.fitted:hover label.sk-toggleable__label.fitted {\n",
       "  color: var(--sklearn-color-text);\n",
       "  background-color: var(--sklearn-color-fitted-level-2);\n",
       "}\n",
       "\n",
       "/* Estimator label */\n",
       "\n",
       "#sk-container-id-1 div.sk-label label {\n",
       "  font-family: monospace;\n",
       "  font-weight: bold;\n",
       "  display: inline-block;\n",
       "  line-height: 1.2em;\n",
       "}\n",
       "\n",
       "#sk-container-id-1 div.sk-label-container {\n",
       "  text-align: center;\n",
       "}\n",
       "\n",
       "/* Estimator-specific */\n",
       "#sk-container-id-1 div.sk-estimator {\n",
       "  font-family: monospace;\n",
       "  border: 1px dotted var(--sklearn-color-border-box);\n",
       "  border-radius: 0.25em;\n",
       "  box-sizing: border-box;\n",
       "  margin-bottom: 0.5em;\n",
       "  /* unfitted */\n",
       "  background-color: var(--sklearn-color-unfitted-level-0);\n",
       "}\n",
       "\n",
       "#sk-container-id-1 div.sk-estimator.fitted {\n",
       "  /* fitted */\n",
       "  background-color: var(--sklearn-color-fitted-level-0);\n",
       "}\n",
       "\n",
       "/* on hover */\n",
       "#sk-container-id-1 div.sk-estimator:hover {\n",
       "  /* unfitted */\n",
       "  background-color: var(--sklearn-color-unfitted-level-2);\n",
       "}\n",
       "\n",
       "#sk-container-id-1 div.sk-estimator.fitted:hover {\n",
       "  /* fitted */\n",
       "  background-color: var(--sklearn-color-fitted-level-2);\n",
       "}\n",
       "\n",
       "/* Specification for estimator info (e.g. \"i\" and \"?\") */\n",
       "\n",
       "/* Common style for \"i\" and \"?\" */\n",
       "\n",
       ".sk-estimator-doc-link,\n",
       "a:link.sk-estimator-doc-link,\n",
       "a:visited.sk-estimator-doc-link {\n",
       "  float: right;\n",
       "  font-size: smaller;\n",
       "  line-height: 1em;\n",
       "  font-family: monospace;\n",
       "  background-color: var(--sklearn-color-background);\n",
       "  border-radius: 1em;\n",
       "  height: 1em;\n",
       "  width: 1em;\n",
       "  text-decoration: none !important;\n",
       "  margin-left: 1ex;\n",
       "  /* unfitted */\n",
       "  border: var(--sklearn-color-unfitted-level-1) 1pt solid;\n",
       "  color: var(--sklearn-color-unfitted-level-1);\n",
       "}\n",
       "\n",
       ".sk-estimator-doc-link.fitted,\n",
       "a:link.sk-estimator-doc-link.fitted,\n",
       "a:visited.sk-estimator-doc-link.fitted {\n",
       "  /* fitted */\n",
       "  border: var(--sklearn-color-fitted-level-1) 1pt solid;\n",
       "  color: var(--sklearn-color-fitted-level-1);\n",
       "}\n",
       "\n",
       "/* On hover */\n",
       "div.sk-estimator:hover .sk-estimator-doc-link:hover,\n",
       ".sk-estimator-doc-link:hover,\n",
       "div.sk-label-container:hover .sk-estimator-doc-link:hover,\n",
       ".sk-estimator-doc-link:hover {\n",
       "  /* unfitted */\n",
       "  background-color: var(--sklearn-color-unfitted-level-3);\n",
       "  color: var(--sklearn-color-background);\n",
       "  text-decoration: none;\n",
       "}\n",
       "\n",
       "div.sk-estimator.fitted:hover .sk-estimator-doc-link.fitted:hover,\n",
       ".sk-estimator-doc-link.fitted:hover,\n",
       "div.sk-label-container:hover .sk-estimator-doc-link.fitted:hover,\n",
       ".sk-estimator-doc-link.fitted:hover {\n",
       "  /* fitted */\n",
       "  background-color: var(--sklearn-color-fitted-level-3);\n",
       "  color: var(--sklearn-color-background);\n",
       "  text-decoration: none;\n",
       "}\n",
       "\n",
       "/* Span, style for the box shown on hovering the info icon */\n",
       ".sk-estimator-doc-link span {\n",
       "  display: none;\n",
       "  z-index: 9999;\n",
       "  position: relative;\n",
       "  font-weight: normal;\n",
       "  right: .2ex;\n",
       "  padding: .5ex;\n",
       "  margin: .5ex;\n",
       "  width: min-content;\n",
       "  min-width: 20ex;\n",
       "  max-width: 50ex;\n",
       "  color: var(--sklearn-color-text);\n",
       "  box-shadow: 2pt 2pt 4pt #999;\n",
       "  /* unfitted */\n",
       "  background: var(--sklearn-color-unfitted-level-0);\n",
       "  border: .5pt solid var(--sklearn-color-unfitted-level-3);\n",
       "}\n",
       "\n",
       ".sk-estimator-doc-link.fitted span {\n",
       "  /* fitted */\n",
       "  background: var(--sklearn-color-fitted-level-0);\n",
       "  border: var(--sklearn-color-fitted-level-3);\n",
       "}\n",
       "\n",
       ".sk-estimator-doc-link:hover span {\n",
       "  display: block;\n",
       "}\n",
       "\n",
       "/* \"?\"-specific style due to the `<a>` HTML tag */\n",
       "\n",
       "#sk-container-id-1 a.estimator_doc_link {\n",
       "  float: right;\n",
       "  font-size: 1rem;\n",
       "  line-height: 1em;\n",
       "  font-family: monospace;\n",
       "  background-color: var(--sklearn-color-background);\n",
       "  border-radius: 1rem;\n",
       "  height: 1rem;\n",
       "  width: 1rem;\n",
       "  text-decoration: none;\n",
       "  /* unfitted */\n",
       "  color: var(--sklearn-color-unfitted-level-1);\n",
       "  border: var(--sklearn-color-unfitted-level-1) 1pt solid;\n",
       "}\n",
       "\n",
       "#sk-container-id-1 a.estimator_doc_link.fitted {\n",
       "  /* fitted */\n",
       "  border: var(--sklearn-color-fitted-level-1) 1pt solid;\n",
       "  color: var(--sklearn-color-fitted-level-1);\n",
       "}\n",
       "\n",
       "/* On hover */\n",
       "#sk-container-id-1 a.estimator_doc_link:hover {\n",
       "  /* unfitted */\n",
       "  background-color: var(--sklearn-color-unfitted-level-3);\n",
       "  color: var(--sklearn-color-background);\n",
       "  text-decoration: none;\n",
       "}\n",
       "\n",
       "#sk-container-id-1 a.estimator_doc_link.fitted:hover {\n",
       "  /* fitted */\n",
       "  background-color: var(--sklearn-color-fitted-level-3);\n",
       "}\n",
       "</style><div id=\"sk-container-id-1\" class=\"sk-top-container\"><div class=\"sk-text-repr-fallback\"><pre>LogisticRegression(max_iter=1000, multi_class=&#x27;multinomial&#x27;)</pre><b>In a Jupyter environment, please rerun this cell to show the HTML representation or trust the notebook. <br />On GitHub, the HTML representation is unable to render, please try loading this page with nbviewer.org.</b></div><div class=\"sk-container\" hidden><div class=\"sk-item\"><div class=\"sk-estimator fitted sk-toggleable\"><input class=\"sk-toggleable__control sk-hidden--visually\" id=\"sk-estimator-id-1\" type=\"checkbox\" checked><label for=\"sk-estimator-id-1\" class=\"sk-toggleable__label fitted sk-toggleable__label-arrow fitted\">&nbsp;&nbsp;LogisticRegression<a class=\"sk-estimator-doc-link fitted\" rel=\"noreferrer\" target=\"_blank\" href=\"https://scikit-learn.org/1.4/modules/generated/sklearn.linear_model.LogisticRegression.html\">?<span>Documentation for LogisticRegression</span></a><span class=\"sk-estimator-doc-link fitted\">i<span>Fitted</span></span></label><div class=\"sk-toggleable__content fitted\"><pre>LogisticRegression(max_iter=1000, multi_class=&#x27;multinomial&#x27;)</pre></div> </div></div></div></div>"
      ],
      "text/plain": [
       "LogisticRegression(max_iter=1000, multi_class='multinomial')"
      ]
     },
     "execution_count": 36,
     "metadata": {},
     "output_type": "execute_result"
    }
   ],
   "source": [
    "print(\"Training Logistic Regression model...\")\n",
    "model = LogisticRegression(max_iter=1000, multi_class=\"multinomial\", solver=\"lbfgs\")\n",
    "model.fit(X_train_tfidf, y_train)"
   ]
  },
  {
   "cell_type": "markdown",
   "metadata": {
    "id": "bIZinzuExzCI"
   },
   "source": [
    "# Evaluate the model\n"
   ]
  },
  {
   "cell_type": "code",
   "execution_count": 37,
   "metadata": {
    "colab": {
     "base_uri": "https://localhost:8080/"
    },
    "id": "gsKh6FK1x2PJ",
    "outputId": "c3deab27-26fa-4fdb-d099-af9f7fb9abe4"
   },
   "outputs": [
    {
     "name": "stdout",
     "output_type": "stream",
     "text": [
      "Evaluating model performance...\n"
     ]
    }
   ],
   "source": [
    "print(\"Evaluating model performance...\")\n",
    "y_pred = model.predict(X_test_tfidf)"
   ]
  },
  {
   "cell_type": "code",
   "execution_count": 38,
   "metadata": {
    "colab": {
     "base_uri": "https://localhost:8080/"
    },
    "id": "DVZvt5bzx5po",
    "outputId": "4d1f2798-d2e7-4c5f-ee2b-e151a99f07db"
   },
   "outputs": [
    {
     "name": "stdout",
     "output_type": "stream",
     "text": [
      "\n",
      "Classification Report:\n",
      "                    precision    recall  f1-score   support\n",
      "\n",
      "  Bahasa Nusantara       0.82      1.00      0.90       165\n",
      " Dongeng Nusantara       0.00      0.00      0.00         1\n",
      " Kuliner Nusantara       1.00      0.38      0.55         8\n",
      "   Musik Nusantara       0.67      0.40      0.50         5\n",
      " Pakaian Nusantara       1.00      0.75      0.86         4\n",
      "        Rumah Adat       1.00      0.33      0.50         3\n",
      " Sejarah Nusantara       1.00      0.50      0.67        12\n",
      "Seni dan Kerajinan       0.00      0.00      0.00         3\n",
      "  Tarian Nusantara       0.00      0.00      0.00         3\n",
      " Tradisi Nusantara       0.50      0.12      0.20         8\n",
      "  Wisata Nusantara       0.00      0.00      0.00         7\n",
      "\n",
      "          accuracy                           0.83       219\n",
      "         macro avg       0.54      0.32      0.38       219\n",
      "      weighted avg       0.78      0.83      0.78       219\n",
      "\n"
     ]
    },
    {
     "name": "stderr",
     "output_type": "stream",
     "text": [
      "c:\\Users\\PF3S6\\AppData\\Local\\Programs\\Python\\Python311\\Lib\\site-packages\\sklearn\\metrics\\_classification.py:1509: UndefinedMetricWarning:\n",
      "\n",
      "Precision is ill-defined and being set to 0.0 in labels with no predicted samples. Use `zero_division` parameter to control this behavior.\n",
      "\n",
      "c:\\Users\\PF3S6\\AppData\\Local\\Programs\\Python\\Python311\\Lib\\site-packages\\sklearn\\metrics\\_classification.py:1509: UndefinedMetricWarning:\n",
      "\n",
      "Precision is ill-defined and being set to 0.0 in labels with no predicted samples. Use `zero_division` parameter to control this behavior.\n",
      "\n",
      "c:\\Users\\PF3S6\\AppData\\Local\\Programs\\Python\\Python311\\Lib\\site-packages\\sklearn\\metrics\\_classification.py:1509: UndefinedMetricWarning:\n",
      "\n",
      "Precision is ill-defined and being set to 0.0 in labels with no predicted samples. Use `zero_division` parameter to control this behavior.\n",
      "\n"
     ]
    }
   ],
   "source": [
    "# Display the classification report\n",
    "report = classification_report(y_test, y_pred, target_names=categories)\n",
    "print(\"\\nClassification Report:\")\n",
    "print(report)"
   ]
  },
  {
   "cell_type": "code",
   "execution_count": 39,
   "metadata": {
    "colab": {
     "base_uri": "https://localhost:8080/"
    },
    "id": "_68VzFUtyGGc",
    "outputId": "b823dc5c-cad9-4b71-a5f0-8fc361121706"
   },
   "outputs": [
    {
     "name": "stdout",
     "output_type": "stream",
     "text": [
      "219\n",
      "219\n"
     ]
    }
   ],
   "source": [
    "# Print the length of actual and predicted data\n",
    "print(len(y_test))   # Number of actual data points\n",
    "print(len(y_pred))   # Number of predicted data points"
   ]
  },
  {
   "cell_type": "code",
   "execution_count": 40,
   "metadata": {
    "colab": {
     "base_uri": "https://localhost:8080/"
    },
    "id": "1O9koq915zGD",
    "outputId": "e14ebb6d-2e22-4f1c-b0b6-316065108a4a"
   },
   "outputs": [
    {
     "name": "stdout",
     "output_type": "stream",
     "text": [
      "Generating confusion matrix...\n",
      "[[165   0   0   0   0   0   0   0   0   0   0]\n",
      " [  1   0   0   0   0   0   0   0   0   0   0]\n",
      " [  5   0   3   0   0   0   0   0   0   0   0]\n",
      " [  3   0   0   2   0   0   0   0   0   0   0]\n",
      " [  1   0   0   0   3   0   0   0   0   0   0]\n",
      " [  2   0   0   0   0   1   0   0   0   0   0]\n",
      " [  6   0   0   0   0   0   6   0   0   0   0]\n",
      " [  3   0   0   0   0   0   0   0   0   0   0]\n",
      " [  1   0   0   1   0   0   0   0   0   1   0]\n",
      " [  7   0   0   0   0   0   0   0   0   1   0]\n",
      " [  7   0   0   0   0   0   0   0   0   0   0]]\n"
     ]
    }
   ],
   "source": [
    "# Check the unique labels in y_test and y_pred\n",
    "unique_labels = sorted(set(y_test) | set(y_pred))\n",
    "\n",
    "# Generate the confusion matrix with valid labels\n",
    "print(\"Generating confusion matrix...\")\n",
    "conf_matrix = confusion_matrix(y_test, y_pred, labels=unique_labels)\n",
    "\n",
    "# Display the confusion matrix\n",
    "print(conf_matrix)"
   ]
  },
  {
   "cell_type": "code",
   "execution_count": 41,
   "metadata": {
    "colab": {
     "base_uri": "https://localhost:8080/",
     "height": 844
    },
    "id": "wmB-Tde86AFY",
    "outputId": "17f1e5b8-bdc9-4b1b-e06b-9f7839ac7559"
   },
   "outputs": [
    {
     "data": {
      "image/png": "[encoded data removed]",
      "text/plain": [
       "<Figure size 1200x800 with 2 Axes>"
      ]
     },
     "metadata": {},
     "output_type": "display_data"
    }
   ],
   "source": [
    "# Plot confusion matrix\n",
    "plt.figure(figsize=(12, 8))\n",
    "sns.heatmap(\n",
    "    conf_matrix,\n",
    "    annot=True,\n",
    "    fmt=\"d\",\n",
    "    xticklabels=categories,\n",
    "    yticklabels=categories,\n",
    "    cmap=\"Blues\",\n",
    ")\n",
    "plt.title(\"Confusion Matrix\")\n",
    "plt.xlabel(\"Predicted\")\n",
    "plt.ylabel(\"Actual\")\n",
    "plt.show()"
   ]
  },
  {
   "cell_type": "markdown",
   "metadata": {
    "id": "N5PoO-mN6FVz"
   },
   "source": [
    "# Save the processed dataset, model, and vectorizer"
   ]
  },
  {
   "cell_type": "code",
   "execution_count": 42,
   "metadata": {
    "colab": {
     "base_uri": "https://localhost:8080/"
    },
    "id": "JmBKjR0t6GHb",
    "outputId": "28539d36-b34d-4abf-cd44-86bf79c78eec"
   },
   "outputs": [
    {
     "name": "stdout",
     "output_type": "stream",
     "text": [
      "Saving processed dataset, model, and vectorizer...\n",
      "All files have been saved successfully.\n"
     ]
    }
   ],
   "source": [
    "print(\"Saving processed dataset, model, and vectorizer...\")\n",
    "df.to_csv(\"processed_dataset.csv\", index=False)\n",
    "joblib.dump(model, \"cultural_classifier_model.pkl\")\n",
    "joblib.dump(tfidf, \"tfidf_vectorizer.pkl\")\n",
    "\n",
    "print(\"All files have been saved successfully.\")\n"
   ]
  },
  {
   "cell_type": "code",
   "execution_count": 43,
   "metadata": {
    "colab": {
     "base_uri": "https://localhost:8080/"
    },
    "id": "aUxcUBvq6H-p",
    "outputId": "66451089-6212-495d-ddc7-2686c020ffe9"
   },
   "outputs": [
    {
     "name": "stdout",
     "output_type": "stream",
     "text": [
      "\n",
      "--- SUMMARY ---\n",
      "1. Dataset loaded and processed.\n",
      "2. Found 11 categories.\n",
      "3. Model trained using Logistic Regression.\n",
      "4. Model evaluation completed with classification report and confusion matrix.\n",
      "5. Files saved: 'processed_dataset.csv', 'cultural_classifier_model.pkl', 'tfidf_vectorizer.pkl'.\n"
     ]
    }
   ],
   "source": [
    "# Summary of steps\n",
    "print(\"\\n--- SUMMARY ---\")\n",
    "print(\"1. Dataset loaded and processed.\")\n",
    "print(f\"2. Found {len(categories)} categories.\")\n",
    "print(\"3. Model trained using Logistic Regression.\")\n",
    "print(\"4. Model evaluation completed with classification report and confusion matrix.\")\n",
    "print(\"5. Files saved: 'processed_dataset.csv', 'cultural_classifier_model.pkl', 'tfidf_vectorizer.pkl'.\")"
   ]
  },
  {
   "cell_type": "markdown",
   "metadata": {
    "id": "1pF6RILg6RUk"
   },
   "source": [
    "# Logging dan Monitoring\n"
   ]
  },
  {
   "cell_type": "code",
   "execution_count": 44,
   "metadata": {
    "id": "fkGXCxsB6SE9"
   },
   "outputs": [
    {
     "name": "stderr",
     "output_type": "stream",
     "text": [
      "2024-11-30 13:28:18,990 - INFO - Loading dataset...\n"
     ]
    }
   ],
   "source": [
    "# Logging setup\n",
    "logging.basicConfig(level=logging.INFO, format=\"%(asctime)s - %(levelname)s - %(message)s\")\n",
    "logger = logging.getLogger()\n",
    "\n",
    "# Replace all print statements with logger\n",
    "logger.info(\"Loading dataset...\")"
   ]
  },
  {
   "cell_type": "markdown",
   "metadata": {
    "id": "DUQeP5B_6WNI"
   },
   "source": [
    "# Validate required fields"
   ]
  },
  {
   "cell_type": "code",
   "execution_count": 45,
   "metadata": {
    "id": "OC7toRES6WrD"
   },
   "outputs": [
    {
     "name": "stderr",
     "output_type": "stream",
     "text": [
      "2024-11-30 13:28:18,998 - INFO - All required columns are present in the dataset.\n"
     ]
    }
   ],
   "source": [
    "# Columns that must be in the dataset\n",
    "required_columns = [\"description\", \"category\"]\n",
    "\n",
    "# Validate columns in the DataFrame\n",
    "missing_columns = [col for col in required_columns if col not in df.columns]\n",
    "\n",
    "if missing_columns:\n",
    "    logger.error(f\"Dataset is missing required columns: {missing_columns}\")\n",
    "    exit()\n",
    "else:\n",
    "    logger.info(\"All required columns are present in the dataset.\")"
   ]
  },
  {
   "cell_type": "code",
   "execution_count": 46,
   "metadata": {
    "id": "52K-y5vs6i2v"
   },
   "outputs": [
    {
     "name": "stderr",
     "output_type": "stream",
     "text": [
      "2024-11-30 13:28:19,006 - INFO - Splitting dataset into train, validation, and test sets...\n",
      "2024-11-30 13:28:19,021 - INFO - Train set: 766 samples, Validation set: 164 samples, Test set: 165 samples\n",
      "2024-11-30 13:28:19,022 - INFO - Features in X_train: 2518\n",
      "2024-11-30 13:28:19,022 - INFO - Features in X_val: 2518\n",
      "2024-11-30 13:28:19,022 - INFO - Features in X_test: 2518\n"
     ]
    }
   ],
   "source": [
    "logger.info(\"Splitting dataset into train, validation, and test sets...\")\n",
    "X_train, X_temp, y_train, y_temp = train_test_split(X, y, test_size=0.3, random_state=42, stratify=y)\n",
    "X_val, X_test, y_val, y_test = train_test_split(X_temp, y_temp, test_size=0.5, random_state=42, stratify=y_temp)\n",
    "\n",
    "logger.info(f\"Train set: {len(X_train)} samples, Validation set: {len(X_val)} samples, Test set: {len(X_test)} samples\")\n",
    "\n",
    "logger.info(f\"Features in X_train: {X_train_tfidf.shape[1]}\")\n",
    "logger.info(f\"Features in X_val: {X_val_tfidf.shape[1]}\")\n",
    "logger.info(f\"Features in X_test: {X_test_tfidf.shape[1]}\")\n",
    "\n",
    "if X_train_tfidf.shape[1] != X_val_tfidf.shape[1] or X_train_tfidf.shape[1] != X_test_tfidf.shape[1]:\n",
    "    logger.error(\"Feature mismatch detected. Ensure TF-IDF vectorizer is used consistently.\")\n",
    "    exit()\n"
   ]
  },
  {
   "cell_type": "code",
   "execution_count": 47,
   "metadata": {
    "id": "norOt_MP61Bu"
   },
   "outputs": [],
   "source": [
    "tfidf = TfidfVectorizer(max_features=5000)"
   ]
  }
 ],
 "metadata": {
  "accelerator": "GPU",
  "colab": {
   "gpuType": "T4",
   "provenance": []
  },
  "kernelspec": {
   "display_name": "Python 3",
   "name": "python3"
  },
  "language_info": {
   "codemirror_mode": {
    "name": "ipython",
    "version": 3
   },
   "file_extension": ".py",
   "mimetype": "text/x-python",
   "name": "python",
   "nbconvert_exporter": "python",
   "pygments_lexer": "ipython3",
   "version": "3.11.7"
  }
 },
 "nbformat": 4,
 "nbformat_minor": 0
}
