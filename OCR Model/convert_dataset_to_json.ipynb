{
 "cells": [
  {
   "cell_type": "code",
   "execution_count": 1,
   "metadata": {},
   "outputs": [],
   "source": [
    "import pandas as pd"
   ]
  },
  {
   "cell_type": "code",
   "execution_count": 2,
   "metadata": {},
   "outputs": [],
   "source": [
    "# The name of the CSV file to be converted.\n",
    "csv_filename = \"A_Z Handwritten Data.csv\"\n",
    "\n",
    "# Converted JSON file name\n",
    "json_filename = csv_filename.replace('.csv', '.json')"
   ]
  },
  {
   "cell_type": "code",
   "execution_count": 3,
   "metadata": {},
   "outputs": [
    {
     "name": "stdout",
     "output_type": "stream",
     "text": [
      "File A_Z Handwritten Data.csv successfully read.\n"
     ]
    }
   ],
   "source": [
    "# Read CSV file\n",
    "try:\n",
    "    df = pd.read_csv(csv_filename)\n",
    "    print(f\"File {csv_filename} successfully read.\")\n",
    "except FileNotFoundError:\n",
    "    print(f\"Error: File {csv_filename} not found.\")\n",
    "    exit()"
   ]
  },
  {
   "cell_type": "code",
   "execution_count": 4,
   "metadata": {},
   "outputs": [
    {
     "name": "stdout",
     "output_type": "stream",
     "text": [
      "File A_Z Handwritten Data.csv successfully converted to A_Z Handwritten Data.json.\n"
     ]
    }
   ],
   "source": [
    "# Convert to JSON\n",
    "df.to_json(json_filename, orient='records', lines=False)\n",
    "print(f\"File {csv_filename} successfully converted to {json_filename}.\")"
   ]
  },
  {
   "cell_type": "markdown",
   "metadata": {},
   "source": [
    "The OCR dataset cannot be uploaded because it is too large, so we upload it as a Google Drive link."
   ]
  }
 ],
 "metadata": {
  "kernelspec": {
   "display_name": "Python 3",
   "language": "python",
   "name": "python3"
  },
  "language_info": {
   "codemirror_mode": {
    "name": "ipython",
    "version": 3
   },
   "file_extension": ".py",
   "mimetype": "text/x-python",
   "name": "python",
   "nbconvert_exporter": "python",
   "pygments_lexer": "ipython3",
   "version": "3.11.7"
  }
 },
 "nbformat": 4,
 "nbformat_minor": 2
}
